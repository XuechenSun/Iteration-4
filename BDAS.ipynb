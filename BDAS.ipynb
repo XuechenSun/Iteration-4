{
 "cells": [
  {
   "cell_type": "code",
   "execution_count": 1,
   "id": "99368eb7",
   "metadata": {},
   "outputs": [
    {
     "name": "stderr",
     "output_type": "stream",
     "text": [
      "WARNING: An illegal reflective access operation has occurred\n",
      "WARNING: Illegal reflective access by org.apache.spark.unsafe.Platform (file:/home/ubuntu/spark-3.2.1-bin-hadoop2.7/jars/spark-unsafe_2.12-3.2.1.jar) to constructor java.nio.DirectByteBuffer(long,int)\n",
      "WARNING: Please consider reporting this to the maintainers of org.apache.spark.unsafe.Platform\n",
      "WARNING: Use --illegal-access=warn to enable warnings of further illegal reflective access operations\n",
      "WARNING: All illegal access operations will be denied in a future release\n",
      "Using Spark's default log4j profile: org/apache/spark/log4j-defaults.properties\n",
      "Setting default log level to \"WARN\".\n",
      "To adjust logging level use sc.setLogLevel(newLevel). For SparkR, use setLogLevel(newLevel).\n",
      "24/05/10 01:00:12 WARN NativeCodeLoader: Unable to load native-hadoop library for your platform... using builtin-java classes where applicable\n"
     ]
    }
   ],
   "source": [
    "import findspark\n",
    "findspark.init('/home/ubuntu/spark-3.2.1-bin-hadoop2.7')\n",
    "import pyspark\n",
    "from pyspark.sql import SparkSession\n",
    "spark = SparkSession.builder.appName('Iteration-4').getOrCreate()"
   ]
  },
  {
   "cell_type": "code",
   "execution_count": 2,
   "id": "dddb63d2",
   "metadata": {},
   "outputs": [],
   "source": [
    "file_path = \"trip_1.csv\"\n",
    "file1_path = \"weather_1.csv\""
   ]
  },
  {
   "cell_type": "code",
   "execution_count": 3,
   "id": "7689333c",
   "metadata": {},
   "outputs": [
    {
     "name": "stderr",
     "output_type": "stream",
     "text": [
      "\r",
      "[Stage 1:=============================>                             (1 + 1) / 2]\r",
      "\r",
      "                                                                                \r"
     ]
    }
   ],
   "source": [
    "df = spark.read.csv(file_path, header=True, inferSchema=True)\n",
    "df_1 = spark.read.csv(file1_path, header=True, inferSchema=True)"
   ]
  },
  {
   "cell_type": "code",
   "execution_count": 4,
   "id": "89620b3c",
   "metadata": {},
   "outputs": [
    {
     "name": "stdout",
     "output_type": "stream",
     "text": [
      "root\n",
      " |-- trip_id: integer (nullable = true)\n",
      " |-- startdate: string (nullable = true)\n",
      " |-- starttime: string (nullable = true)\n",
      " |-- stopdata: string (nullable = true)\n",
      " |-- stoptime: string (nullable = true)\n",
      " |-- bikeid: string (nullable = true)\n",
      " |-- tripduration: double (nullable = true)\n",
      " |-- from_station_name: string (nullable = true)\n",
      " |-- to_station_name: string (nullable = true)\n",
      " |-- from_station_id: string (nullable = true)\n",
      " |-- to_station_id: string (nullable = true)\n",
      " |-- usertype: string (nullable = true)\n",
      " |-- gender: string (nullable = true)\n",
      " |-- birthyear: integer (nullable = true)\n",
      "\n",
      "+-------+---------+---------+--------+--------+--------+------------+--------------------+--------------------+---------------+-------------+--------------------+------+---------+\n",
      "|trip_id|startdate|starttime|stopdata|stoptime|  bikeid|tripduration|   from_station_name|     to_station_name|from_station_id|to_station_id|            usertype|gender|birthyear|\n",
      "+-------+---------+---------+--------+--------+--------+------------+--------------------+--------------------+---------------+-------------+--------------------+------+---------+\n",
      "|      1| 1/1/2016|     0:36|1/1/2016|    0:48|SEA00480|     734.096|PATH / 9th Ave & ...|Summit Ave & E De...|         SLU-07|        CH-01|Short-Term Pass H...|     M|     null|\n",
      "|      2| 1/1/2016|     0:43|1/1/2016|    0:54|SEA00392|     644.455|Bellevue Ave & E ...|Dexter Ave N & Al...|          CH-12|       SLU-02|              Member|  Male|     1982|\n",
      "|      3| 1/1/2016|     0:47|1/1/2016|    1:05|SEA00276|    1078.579|Key Arena / 1st A...| 1st Ave & Marion St|         SLU-19|       CBD-05|Short-Term Pass H...|  Male|     null|\n",
      "|      4| 1/1/2016|     0:47|1/1/2016|    1:05|SEA00335|     770.696|Key Arena / 1st A...| 1st Ave & Marion St|         SLU-19|       CBD-05|Short-Term Pass H...|  Male|     null|\n",
      "|      5| 1/1/2016|     1:10|1/1/2016|    1:51|SEA00071|     797.304|   2nd Ave & Pine St| 1st Ave & Marion St|         CBD-13|       CBD-05|Short-Term Pass H...|  Male|     null|\n",
      "+-------+---------+---------+--------+--------+--------+------------+--------------------+--------------------+---------------+-------------+--------------------+------+---------+\n",
      "only showing top 5 rows\n",
      "\n"
     ]
    }
   ],
   "source": [
    "df.printSchema()\n",
    "df.show(5)"
   ]
  },
  {
   "cell_type": "code",
   "execution_count": 5,
   "id": "9715a85d",
   "metadata": {},
   "outputs": [
    {
     "name": "stdout",
     "output_type": "stream",
     "text": [
      "root\n",
      " |-- startdate: string (nullable = true)\n",
      " |-- Max_Temperature_F: integer (nullable = true)\n",
      " |-- Mean_Temperature_F: integer (nullable = true)\n",
      " |-- Min_TemperatureF: integer (nullable = true)\n",
      " |-- Max_Dew_Point_F: integer (nullable = true)\n",
      " |-- MeanDew_Point_F: integer (nullable = true)\n",
      " |-- Min_Dewpoint_F: integer (nullable = true)\n",
      " |-- Max_Humidity: integer (nullable = true)\n",
      " |-- Mean_Humidity: integer (nullable = true)\n",
      " |-- Min_Humidity: integer (nullable = true)\n",
      " |-- Max_Sea_Level_Pressure_In: double (nullable = true)\n",
      " |-- Mean_Sea_Level_Pressure_In: double (nullable = true)\n",
      " |-- Min_Sea_Level_Pressure_In: double (nullable = true)\n",
      " |-- Max_Visibility_Miles: integer (nullable = true)\n",
      " |-- Mean_Visibility_Miles: integer (nullable = true)\n",
      " |-- Min_Visibility_Miles: integer (nullable = true)\n",
      " |-- Max_Wind_Speed_MPH: integer (nullable = true)\n",
      " |-- Mean_Wind_Speed_MPH: integer (nullable = true)\n",
      " |-- Max_Gust_Speed_MPH: integer (nullable = true)\n",
      " |-- Precipitation_In: double (nullable = true)\n",
      " |-- Events: string (nullable = true)\n",
      "\n",
      "+---------+-----------------+------------------+----------------+---------------+---------------+--------------+------------+-------------+------------+-------------------------+--------------------------+-------------------------+--------------------+---------------------+--------------------+------------------+-------------------+------------------+----------------+---------+\n",
      "|startdate|Max_Temperature_F|Mean_Temperature_F|Min_TemperatureF|Max_Dew_Point_F|MeanDew_Point_F|Min_Dewpoint_F|Max_Humidity|Mean_Humidity|Min_Humidity|Max_Sea_Level_Pressure_In|Mean_Sea_Level_Pressure_In|Min_Sea_Level_Pressure_In|Max_Visibility_Miles|Mean_Visibility_Miles|Min_Visibility_Miles|Max_Wind_Speed_MPH|Mean_Wind_Speed_MPH|Max_Gust_Speed_MPH|Precipitation_In|   Events|\n",
      "+---------+-----------------+------------------+----------------+---------------+---------------+--------------+------------+-------------+------------+-------------------------+--------------------------+-------------------------+--------------------+---------------------+--------------------+------------------+-------------------+------------------+----------------+---------+\n",
      "| 1/1/2016|               44|                34|              25|             30|             25|            21|          92|           76|          43|                    30.49|                     30.38|                    30.27|                  10|                   10|                   6|                 5|                  1|              null|             0.0|     null|\n",
      "| 1/2/2016|               44|                34|              23|             30|             23|            13|          96|           73|          33|                    30.26|                     30.19|                    30.11|                  10|                    9|                   6|                 8|                  2|              null|             0.0|     null|\n",
      "| 1/3/2016|               39|                34|              28|             34|             26|            14|          87|           67|          35|                    30.09|                     29.96|                    29.86|                  10|                    9|                   3|                14|                  4|              null|            0.01|Rain-Snow|\n",
      "| 1/4/2016|               39|                38|              37|             34|             33|            32|          87|           83|          76|                    29.84|                     29.77|                    29.67|                  10|                    6|                   2|                 8|                  1|              null|            0.07|     Rain|\n",
      "| 1/5/2016|               44|                40|              37|             39|             33|            32|         100|           73|          63|                     29.6|                     29.58|                    29.56|                  10|                    8|                   5|                 5|                  1|              null|            0.11|     Rain|\n",
      "+---------+-----------------+------------------+----------------+---------------+---------------+--------------+------------+-------------+------------+-------------------------+--------------------------+-------------------------+--------------------+---------------------+--------------------+------------------+-------------------+------------------+----------------+---------+\n",
      "only showing top 5 rows\n",
      "\n"
     ]
    }
   ],
   "source": [
    "df_1.printSchema()\n",
    "df_1.show(5)"
   ]
  },
  {
   "cell_type": "code",
   "execution_count": 6,
   "id": "582c1243",
   "metadata": {},
   "outputs": [
    {
     "name": "stdout",
     "output_type": "stream",
     "text": [
      "+-------+---------+---------+--------+--------+--------+------------+--------------------+--------------------+---------------+-------------+--------------------+------+---------+\n",
      "|trip_id|startdate|starttime|stopdata|stoptime|  bikeid|tripduration|   from_station_name|     to_station_name|from_station_id|to_station_id|            usertype|gender|birthyear|\n",
      "+-------+---------+---------+--------+--------+--------+------------+--------------------+--------------------+---------------+-------------+--------------------+------+---------+\n",
      "|      1| 1/1/2016|     0:36|1/1/2016|    0:48|SEA00480|     734.096|PATH / 9th Ave & ...|Summit Ave & E De...|         SLU-07|        CH-01|Short-Term Pass H...|     M|     null|\n",
      "|      2| 1/1/2016|     0:43|1/1/2016|    0:54|SEA00392|     644.455|Bellevue Ave & E ...|Dexter Ave N & Al...|          CH-12|       SLU-02|              Member|  Male|     1982|\n",
      "|      3| 1/1/2016|     0:47|1/1/2016|    1:05|SEA00276|    1078.579|Key Arena / 1st A...| 1st Ave & Marion St|         SLU-19|       CBD-05|Short-Term Pass H...|  Male|     null|\n",
      "|      4| 1/1/2016|     0:47|1/1/2016|    1:05|SEA00335|     770.696|Key Arena / 1st A...| 1st Ave & Marion St|         SLU-19|       CBD-05|Short-Term Pass H...|  Male|     null|\n",
      "|      5| 1/1/2016|     1:10|1/1/2016|    1:51|SEA00071|     797.304|   2nd Ave & Pine St| 1st Ave & Marion St|         CBD-13|       CBD-05|Short-Term Pass H...|  Male|     null|\n",
      "|      6| 1/1/2016|     1:11|1/1/2016|    1:20|SEA00382|     856.238|REI / Yale Ave N ...|E Blaine St & Fai...|         SLU-01|        EL-03|              Member|  Male|     1990|\n",
      "|      7| 1/1/2016|     1:11|1/1/2016|    1:20|SEA00338|     514.811|REI / Yale Ave N ...|E Blaine St & Fai...|         SLU-01|        EL-03|              Member|Female|     1983|\n",
      "|      8| 1/1/2016|     1:17|1/1/2016|    1:25|SEA00205|     741.016|   Pine St & 9th Ave|Republican St & W...|         SLU-16|       SLU-04|              Member|  Male|     1983|\n",
      "|      9| 1/1/2016|     1:26|1/1/2016|    1:34|SEA00480|     736.474|Summit Ave & E De...|12th Ave & E Merc...|          CH-01|        CH-15|Short-Term Pass H...|  Male|     null|\n",
      "|     10| 1/1/2016|     1:26|1/1/2016|    1:34|SEA00149|     499.128|Summit Ave & E De...|12th Ave & E Merc...|          CH-01|        CH-15|Short-Term Pass H...|  Male|     null|\n",
      "+-------+---------+---------+--------+--------+--------+------------+--------------------+--------------------+---------------+-------------+--------------------+------+---------+\n",
      "only showing top 10 rows\n",
      "\n"
     ]
    }
   ],
   "source": [
    "df.show(10)"
   ]
  },
  {
   "cell_type": "code",
   "execution_count": 7,
   "id": "1ab62927",
   "metadata": {},
   "outputs": [
    {
     "name": "stdout",
     "output_type": "stream",
     "text": [
      "+---------+-----------------+------------------+----------------+---------------+---------------+--------------+------------+-------------+------------+-------------------------+--------------------------+-------------------------+--------------------+---------------------+--------------------+------------------+-------------------+------------------+----------------+---------+\n",
      "|startdate|Max_Temperature_F|Mean_Temperature_F|Min_TemperatureF|Max_Dew_Point_F|MeanDew_Point_F|Min_Dewpoint_F|Max_Humidity|Mean_Humidity|Min_Humidity|Max_Sea_Level_Pressure_In|Mean_Sea_Level_Pressure_In|Min_Sea_Level_Pressure_In|Max_Visibility_Miles|Mean_Visibility_Miles|Min_Visibility_Miles|Max_Wind_Speed_MPH|Mean_Wind_Speed_MPH|Max_Gust_Speed_MPH|Precipitation_In|   Events|\n",
      "+---------+-----------------+------------------+----------------+---------------+---------------+--------------+------------+-------------+------------+-------------------------+--------------------------+-------------------------+--------------------+---------------------+--------------------+------------------+-------------------+------------------+----------------+---------+\n",
      "| 1/1/2016|               44|                34|              25|             30|             25|            21|          92|           76|          43|                    30.49|                     30.38|                    30.27|                  10|                   10|                   6|                 5|                  1|              null|             0.0|     null|\n",
      "| 1/2/2016|               44|                34|              23|             30|             23|            13|          96|           73|          33|                    30.26|                     30.19|                    30.11|                  10|                    9|                   6|                 8|                  2|              null|             0.0|     null|\n",
      "| 1/3/2016|               39|                34|              28|             34|             26|            14|          87|           67|          35|                    30.09|                     29.96|                    29.86|                  10|                    9|                   3|                14|                  4|              null|            0.01|Rain-Snow|\n",
      "| 1/4/2016|               39|                38|              37|             34|             33|            32|          87|           83|          76|                    29.84|                     29.77|                    29.67|                  10|                    6|                   2|                 8|                  1|              null|            0.07|     Rain|\n",
      "| 1/5/2016|               44|                40|              37|             39|             33|            32|         100|           73|          63|                     29.6|                     29.58|                    29.56|                  10|                    8|                   5|                 5|                  1|              null|            0.11|     Rain|\n",
      "| 1/6/2016|               51|                43|              35|             42|             39|            35|         100|           90|          66|                    29.76|                     29.65|                    29.59|                  10|                    9|                   2|                 7|                  1|              null|             0.0|     null|\n",
      "| 1/7/2016|               45|                38|              32|             41|             37|            32|         100|           93|          81|                    30.03|                     29.91|                    29.77|                  10|                    6|                   0|                 6|                  2|              null|             0.0|      Fog|\n",
      "| 1/8/2016|               48|                39|              30|             42|             38|            30|         100|           93|          74|                    30.08|                     30.04|                    30.01|                  10|                    6|                   0|                 7|                  1|              null|             0.0|      Fog|\n",
      "| 1/9/2016|               48|                39|              30|             41|             36|            30|         100|           92|          66|                    30.22|                      30.1|                    30.01|                  10|                    5|                   0|                 6|                  1|              null|             0.0|      Fog|\n",
      "|1/10/2016|               51|                43|              32|             39|             32|            25|          93|           69|          50|                    30.27|                     30.21|                    30.15|                  10|                   10|                   9|                 8|                  2|              null|             0.0|     null|\n",
      "+---------+-----------------+------------------+----------------+---------------+---------------+--------------+------------+-------------+------------+-------------------------+--------------------------+-------------------------+--------------------+---------------------+--------------------+------------------+-------------------+------------------+----------------+---------+\n",
      "only showing top 10 rows\n",
      "\n"
     ]
    }
   ],
   "source": [
    "df_1.show(10)"
   ]
  },
  {
   "cell_type": "code",
   "execution_count": 8,
   "id": "968eca70",
   "metadata": {},
   "outputs": [
    {
     "name": "stdout",
     "output_type": "stream",
     "text": [
      "+-------+---------+---------+--------+--------+--------+------------+--------------------+--------------------+---------------+-------------+--------------------+------+---------+\n",
      "|trip_id|startdate|starttime|stopdata|stoptime|  bikeid|tripduration|   from_station_name|     to_station_name|from_station_id|to_station_id|            usertype|gender|birthyear|\n",
      "+-------+---------+---------+--------+--------+--------+------------+--------------------+--------------------+---------------+-------------+--------------------+------+---------+\n",
      "|      1| 1/1/2016|     0:36|1/1/2016|    0:48|SEA00480|     734.096|PATH / 9th Ave & ...|Summit Ave & E De...|         SLU-07|        CH-01|Short-Term Pass H...|     M|     null|\n",
      "|      2| 1/1/2016|     0:43|1/1/2016|    0:54|SEA00392|     644.455|Bellevue Ave & E ...|Dexter Ave N & Al...|          CH-12|       SLU-02|              Member|  Male|     1982|\n",
      "|      3| 1/1/2016|     0:47|1/1/2016|    1:05|SEA00276|    1078.579|Key Arena / 1st A...| 1st Ave & Marion St|         SLU-19|       CBD-05|Short-Term Pass H...|  Male|     null|\n",
      "|      4| 1/1/2016|     0:47|1/1/2016|    1:05|SEA00335|     770.696|Key Arena / 1st A...| 1st Ave & Marion St|         SLU-19|       CBD-05|Short-Term Pass H...|  Male|     null|\n",
      "|      5| 1/1/2016|     1:10|1/1/2016|    1:51|SEA00071|     797.304|   2nd Ave & Pine St| 1st Ave & Marion St|         CBD-13|       CBD-05|Short-Term Pass H...|  Male|     null|\n",
      "|      6| 1/1/2016|     1:11|1/1/2016|    1:20|SEA00382|     856.238|REI / Yale Ave N ...|E Blaine St & Fai...|         SLU-01|        EL-03|              Member|  Male|     1990|\n",
      "|      7| 1/1/2016|     1:11|1/1/2016|    1:20|SEA00338|     514.811|REI / Yale Ave N ...|E Blaine St & Fai...|         SLU-01|        EL-03|              Member|Female|     1983|\n",
      "|      8| 1/1/2016|     1:17|1/1/2016|    1:25|SEA00205|     741.016|   Pine St & 9th Ave|Republican St & W...|         SLU-16|       SLU-04|              Member|  Male|     1983|\n",
      "|      9| 1/1/2016|     1:26|1/1/2016|    1:34|SEA00480|     736.474|Summit Ave & E De...|12th Ave & E Merc...|          CH-01|        CH-15|Short-Term Pass H...|  Male|     null|\n",
      "|     10| 1/1/2016|     1:26|1/1/2016|    1:34|SEA00149|     499.128|Summit Ave & E De...|12th Ave & E Merc...|          CH-01|        CH-15|Short-Term Pass H...|  Male|     null|\n",
      "|     11| 1/1/2016|     1:29|1/1/2016|    1:50|SEA00393|     480.574|Cal Anderson Park...|King Street Stati...|          CH-08|        PS-05|Short-Term Pass H...|  Male|     null|\n",
      "|     12| 1/1/2016|     1:29|1/1/2016|    1:50|SEA00101|     436.445|Cal Anderson Park...|King Street Stati...|          CH-08|        PS-05|Short-Term Pass H...|  Male|     null|\n",
      "|     13| 1/1/2016|     1:31|1/1/2016|    1:50|SEA00292|     272.029|Cal Anderson Park...|King Street Stati...|          CH-08|        PS-05|Short-Term Pass H...|     M|     null|\n",
      "|     14| 1/1/2016|     1:32|1/1/2016|    1:45|SEA00016|     481.684|Cal Anderson Park...|Westlake Ave & 6t...|          CH-08|       SLU-15|Short-Term Pass H...|  Male|     null|\n",
      "|     15| 1/1/2016|     1:33|1/1/2016|    1:50|SEA00422|    1035.892|Cal Anderson Park...|King Street Stati...|          CH-08|        PS-05|Short-Term Pass H...|  Male|     null|\n",
      "|     16| 1/1/2016|     1:33|1/1/2016|    1:37|SEA00321|     649.525|E Harrison St & B...|Cal Anderson Park...|          CH-02|        CH-08|              Member|     M|     1993|\n",
      "|     17| 1/1/2016|     1:46|1/1/2016|    1:51|SEA00499|     869.444|2nd Ave & Blancha...| 1st Ave & Marion St|          BT-05|       CBD-05|Short-Term Pass H...|  Male|     null|\n",
      "|     18| 1/1/2016|     2:00|1/1/2016|    2:11|SEA00033|     691.471|PATH / 9th Ave & ...|   Pine St & 9th Ave|         SLU-07|       SLU-16|              Member|  Male|     1983|\n",
      "|     19| 1/1/2016|     2:21|1/1/2016|    2:33|SEA00125|     738.556|  3rd Ave & Broad St|   Pine St & 9th Ave|          BT-01|       SLU-16|              Member|  Male|     1988|\n",
      "|     20| 1/1/2016|     2:37|1/1/2016|    2:49|SEA00157|    1053.753|   Pine St & 9th Ave|E Pine St & 16th Ave|         SLU-16|        CH-07|              Member|  Male|     1988|\n",
      "+-------+---------+---------+--------+--------+--------+------------+--------------------+--------------------+---------------+-------------+--------------------+------+---------+\n",
      "only showing top 20 rows\n",
      "\n"
     ]
    }
   ],
   "source": [
    "df.show()"
   ]
  },
  {
   "cell_type": "code",
   "execution_count": 9,
   "id": "ed349a90",
   "metadata": {},
   "outputs": [
    {
     "data": {
      "text/plain": [
       "['trip_id',\n",
       " 'startdate',\n",
       " 'starttime',\n",
       " 'stopdata',\n",
       " 'stoptime',\n",
       " 'bikeid',\n",
       " 'tripduration',\n",
       " 'from_station_name',\n",
       " 'to_station_name',\n",
       " 'from_station_id',\n",
       " 'to_station_id',\n",
       " 'usertype',\n",
       " 'gender',\n",
       " 'birthyear']"
      ]
     },
     "execution_count": 9,
     "metadata": {},
     "output_type": "execute_result"
    }
   ],
   "source": [
    "df.columns"
   ]
  },
  {
   "cell_type": "code",
   "execution_count": 10,
   "id": "a43389d5",
   "metadata": {},
   "outputs": [
    {
     "name": "stderr",
     "output_type": "stream",
     "text": [
      "[Stage 9:=============================>                             (1 + 1) / 2]\r"
     ]
    },
    {
     "name": "stdout",
     "output_type": "stream",
     "text": [
      "+-------+------------------+---------+---------+--------+--------+--------+------------------+--------------------+--------------------+---------------+-------------+--------------------+------+------------------+\n",
      "|summary|           trip_id|startdate|starttime|stopdata|stoptime|  bikeid|      tripduration|   from_station_name|     to_station_name|from_station_id|to_station_id|            usertype|gender|         birthyear|\n",
      "+-------+------------------+---------+---------+--------+--------+--------+------------------+--------------------+--------------------+---------------+-------------+--------------------+------+------------------+\n",
      "|  count|             48984|    48984|    48984|   48984|   48984|   48984|             48984|               48984|               48984|          48984|        48984|               48984| 48984|             31270|\n",
      "|   mean|           24492.5|     null|     null|    null|    null|    null|1264.9614109709287|                null|                null|           null|         null|                null|  null|1979.8150303805564|\n",
      "| stddev|14140.607129822962|     null|     null|    null|    null|    null|1881.4033008852307|                null|                null|           null|         null|                null|  null| 10.29965212907769|\n",
      "|    min|                 1| 1/1/2016|     0:00|1/1/2016|    0:00|SEA00001|             34.05|12th Ave & E Denn...|12th Ave & E Denn...|          BT-01|        BT-01|              Member|     F|              1936|\n",
      "|    max|             48984| 6/9/2016|     9:59|6/9/2016|    9:59|SEA00500|         28779.864|Westlake Ave & 6t...|Westlake Ave & 6t...|          WF-04|        WF-04|Short-Term Pass H...| Other|              1997|\n",
      "+-------+------------------+---------+---------+--------+--------+--------+------------------+--------------------+--------------------+---------------+-------------+--------------------+------+------------------+\n",
      "\n"
     ]
    },
    {
     "name": "stderr",
     "output_type": "stream",
     "text": [
      "\r",
      "                                                                                \r"
     ]
    }
   ],
   "source": [
    "df.describe().show()"
   ]
  },
  {
   "cell_type": "code",
   "execution_count": 11,
   "id": "b1ce125e",
   "metadata": {},
   "outputs": [
    {
     "ename": "NameError",
     "evalue": "name 'plt' is not defined",
     "output_type": "error",
     "traceback": [
      "\u001b[0;31m---------------------------------------------------------------------------\u001b[0m",
      "\u001b[0;31mNameError\u001b[0m                                 Traceback (most recent call last)",
      "Input \u001b[0;32mIn [11]\u001b[0m, in \u001b[0;36m<cell line: 3>\u001b[0;34m()\u001b[0m\n\u001b[1;32m      1\u001b[0m birthyear_counts \u001b[38;5;241m=\u001b[39m df\u001b[38;5;241m.\u001b[39mgroupBy(\u001b[38;5;124m'\u001b[39m\u001b[38;5;124mbirthyear\u001b[39m\u001b[38;5;124m'\u001b[39m)\u001b[38;5;241m.\u001b[39mcount()\u001b[38;5;241m.\u001b[39morderBy(\u001b[38;5;124m'\u001b[39m\u001b[38;5;124mbirthyear\u001b[39m\u001b[38;5;124m'\u001b[39m)\n\u001b[1;32m      2\u001b[0m birthyear_counts_pandas \u001b[38;5;241m=\u001b[39m birthyear_counts\u001b[38;5;241m.\u001b[39mtoPandas()\n\u001b[0;32m----> 3\u001b[0m \u001b[43mplt\u001b[49m\u001b[38;5;241m.\u001b[39mfigure(figsize\u001b[38;5;241m=\u001b[39m(\u001b[38;5;241m10\u001b[39m, \u001b[38;5;241m6\u001b[39m))\n\u001b[1;32m      4\u001b[0m plt\u001b[38;5;241m.\u001b[39mhist(birthyear_counts_pandas[\u001b[38;5;124m'\u001b[39m\u001b[38;5;124mbirthyear\u001b[39m\u001b[38;5;124m'\u001b[39m], bins\u001b[38;5;241m=\u001b[39m\u001b[38;5;241m30\u001b[39m, edgecolor\u001b[38;5;241m=\u001b[39m\u001b[38;5;124m'\u001b[39m\u001b[38;5;124mblack\u001b[39m\u001b[38;5;124m'\u001b[39m)\n\u001b[1;32m      5\u001b[0m plt\u001b[38;5;241m.\u001b[39mtitle(\u001b[38;5;124m'\u001b[39m\u001b[38;5;124mDistribution of Birth Years\u001b[39m\u001b[38;5;124m'\u001b[39m)\n",
      "\u001b[0;31mNameError\u001b[0m: name 'plt' is not defined"
     ]
    }
   ],
   "source": [
    "birthyear_counts = df.groupBy('birthyear').count().orderBy('birthyear')\n",
    "birthyear_counts_pandas = birthyear_counts.toPandas()\n",
    "plt.figure(figsize=(10, 6))\n",
    "plt.hist(birthyear_counts_pandas['birthyear'], bins=30, edgecolor='black')\n",
    "plt.title('Distribution of Birth Years')\n",
    "plt.xlabel('Birth Year')\n",
    "plt.ylabel('Count')\n",
    "plt.show()"
   ]
  },
  {
   "cell_type": "code",
   "execution_count": 12,
   "id": "3789bfee",
   "metadata": {},
   "outputs": [],
   "source": [
    "import matplotlib.pyplot as plt"
   ]
  },
  {
   "cell_type": "code",
   "execution_count": 21,
   "id": "bb2cf9f1",
   "metadata": {},
   "outputs": [
    {
     "data": {
      "image/png": "[encoded data removed]",
      "text/plain": [
       "<Figure size 720x432 with 1 Axes>"
      ]
     },
     "metadata": {
      "needs_background": "light"
     },
     "output_type": "display_data"
    }
   ],
   "source": [
    "birthyear_counts = df.groupBy('birthyear').count().orderBy('birthyear')\n",
    "birthyear_counts_pandas = birthyear_counts.toPandas()\n",
    "plt.figure(figsize=(10, 6))\n",
    "plt.hist(birthyear_counts_pandas['birthyear'], bins=30, edgecolor='black')\n",
    "\n",
    "plt.xlabel('Birthyear')\n",
    "plt.ylabel('Count')\n",
    "plt.show()"
   ]
  },
  {
   "cell_type": "code",
   "execution_count": 15,
   "id": "fafd656b",
   "metadata": {},
   "outputs": [
    {
     "data": {
      "image/png": "[encoded data removed]",
      "text/plain": [
       "<Figure size 576x432 with 1 Axes>"
      ]
     },
     "metadata": {
      "needs_background": "light"
     },
     "output_type": "display_data"
    }
   ],
   "source": [
    "gender_counts = df.groupBy('gender').count().orderBy('gender')\n",
    "\n",
    "\n",
    "gender_counts_pandas = gender_counts.toPandas()\n",
    "\n",
    "plt.figure(figsize=(8, 6))\n",
    "plt.bar(gender_counts_pandas['gender'], gender_counts_pandas['count'], color='skyblue')\n",
    "plt.title('Gender Distribution')\n",
    "plt.xlabel('Gender')\n",
    "plt.ylabel('Count')\n",
    "plt.show()"
   ]
  },
  {
   "cell_type": "code",
   "execution_count": 17,
   "id": "423b5af0",
   "metadata": {},
   "outputs": [
    {
     "data": {
      "image/png": "[encoded data removed]",
      "text/plain": [
       "<Figure size 720x432 with 1 Axes>"
      ]
     },
     "metadata": {
      "needs_background": "light"
     },
     "output_type": "display_data"
    }
   ],
   "source": [
    "pandas_df = df.select('usertype', 'tripduration').toPandas()\n",
    "\n",
    "\n",
    "plt.figure(figsize=(10, 6))\n",
    "plt.scatter(pandas_df['usertype'], pandas_df['tripduration'], alpha=0.5)\n",
    "plt.xlabel('Usertype')\n",
    "plt.ylabel('Tripduration')\n",
    "plt.show()"
   ]
  },
  {
   "cell_type": "code",
   "execution_count": 18,
   "id": "d49e4ddc",
   "metadata": {},
   "outputs": [
    {
     "data": {
      "image/png": "[encoded data removed]",
      "text/plain": [
       "<Figure size 576x432 with 1 Axes>"
      ]
     },
     "metadata": {
      "needs_background": "light"
     },
     "output_type": "display_data"
    }
   ],
   "source": [
    "plt.figure(figsize=(8, 6))\n",
    "pandas_df.boxplot(column='tripduration')\n",
    "\n",
    "plt.ylabel('Tripduration')\n",
    "plt.show()"
   ]
  },
  {
   "cell_type": "code",
   "execution_count": 19,
   "id": "867815f7",
   "metadata": {},
   "outputs": [
    {
     "data": {
      "image/png": "[encoded data removed]",
      "text/plain": [
       "<Figure size 576x432 with 1 Axes>"
      ]
     },
     "metadata": {
      "needs_background": "light"
     },
     "output_type": "display_data"
    }
   ],
   "source": [
    "plt.figure(figsize=(8, 6))\n",
    "plt.hist(pandas_df['tripduration'], bins=30, edgecolor='black')\n",
    "\n",
    "plt.xlabel('Tripduration')\n",
    "plt.ylabel('Frequency')\n",
    "plt.show()"
   ]
  },
  {
   "cell_type": "code",
   "execution_count": 22,
   "id": "23fda7cd",
   "metadata": {},
   "outputs": [
    {
     "name": "stdout",
     "output_type": "stream",
     "text": [
      "+------+\n",
      "|gender|\n",
      "+------+\n",
      "|     M|\n",
      "|  Male|\n",
      "|  Male|\n",
      "|  Male|\n",
      "|  Male|\n",
      "|  Male|\n",
      "|Female|\n",
      "|  Male|\n",
      "|  Male|\n",
      "|  Male|\n",
      "|  Male|\n",
      "|  Male|\n",
      "|     M|\n",
      "|  Male|\n",
      "|  Male|\n",
      "|     M|\n",
      "|  Male|\n",
      "|  Male|\n",
      "|  Male|\n",
      "|  Male|\n",
      "+------+\n",
      "only showing top 20 rows\n",
      "\n"
     ]
    }
   ],
   "source": [
    "df.select('gender').show()"
   ]
  },
  {
   "cell_type": "code",
   "execution_count": null,
   "id": "8ebaa1d4",
   "metadata": {},
   "outputs": [],
   "source": []
  }
 ],
 "metadata": {
  "kernelspec": {
   "display_name": "Python 3 (ipykernel)",
   "language": "python",
   "name": "python3"
  },
  "language_info": {
   "codemirror_mode": {
    "name": "ipython",
    "version": 3
   },
   "file_extension": ".py",
   "mimetype": "text/x-python",
   "name": "python",
   "nbconvert_exporter": "python",
   "pygments_lexer": "ipython3",
   "version": "3.10.4"
  }
 },
 "nbformat": 4,
 "nbformat_minor": 5
}
