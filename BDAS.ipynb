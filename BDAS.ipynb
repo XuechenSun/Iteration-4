{
 "cells": [
  {
   "cell_type": "code",
   "execution_count": 1,
   "id": "99368eb7",
   "metadata": {},
   "outputs": [
    {
     "name": "stderr",
     "output_type": "stream",
     "text": [
      "WARNING: An illegal reflective access operation has occurred\n",
      "WARNING: Illegal reflective access by org.apache.spark.unsafe.Platform (file:/home/ubuntu/spark-3.2.1-bin-hadoop2.7/jars/spark-unsafe_2.12-3.2.1.jar) to constructor java.nio.DirectByteBuffer(long,int)\n",
      "WARNING: Please consider reporting this to the maintainers of org.apache.spark.unsafe.Platform\n",
      "WARNING: Use --illegal-access=warn to enable warnings of further illegal reflective access operations\n",
      "WARNING: All illegal access operations will be denied in a future release\n",
      "Using Spark's default log4j profile: org/apache/spark/log4j-defaults.properties\n",
      "Setting default log level to \"WARN\".\n",
      "To adjust logging level use sc.setLogLevel(newLevel). For SparkR, use setLogLevel(newLevel).\n",
      "24/05/13 19:37:48 WARN NativeCodeLoader: Unable to load native-hadoop library for your platform... using builtin-java classes where applicable\n"
     ]
    }
   ],
   "source": [
    "import findspark\n",
    "findspark.init('/home/ubuntu/spark-3.2.1-bin-hadoop2.7')\n",
    "import pyspark\n",
    "from pyspark.sql import SparkSession\n",
    "spark = SparkSession.builder.appName('Iteration-4').getOrCreate()"
   ]
  },
  {
   "cell_type": "code",
   "execution_count": 2,
   "id": "dddb63d2",
   "metadata": {},
   "outputs": [],
   "source": [
    "file_path = \"trip_1.csv\"\n",
    "file1_path = \"weather_1.csv\""
   ]
  },
  {
   "cell_type": "code",
   "execution_count": 3,
   "id": "7689333c",
   "metadata": {},
   "outputs": [
    {
     "name": "stderr",
     "output_type": "stream",
     "text": [
      "                                                                                \r"
     ]
    }
   ],
   "source": [
    "df = spark.read.csv(file_path, header=True, inferSchema=True)\n",
    "df_1 = spark.read.csv(file1_path, header=True, inferSchema=True)"
   ]
  },
  {
   "cell_type": "markdown",
   "id": "570d2fde",
   "metadata": {},
   "source": [
    "02-DU"
   ]
  },
  {
   "cell_type": "code",
   "execution_count": 4,
   "id": "89620b3c",
   "metadata": {
    "scrolled": true
   },
   "outputs": [
    {
     "name": "stdout",
     "output_type": "stream",
     "text": [
      "root\n",
      " |-- trip_id: integer (nullable = true)\n",
      " |-- startdate: string (nullable = true)\n",
      " |-- starttime: string (nullable = true)\n",
      " |-- stopdata: string (nullable = true)\n",
      " |-- stoptime: string (nullable = true)\n",
      " |-- bikeid: string (nullable = true)\n",
      " |-- tripduration: double (nullable = true)\n",
      " |-- from_station_name: string (nullable = true)\n",
      " |-- to_station_name: string (nullable = true)\n",
      " |-- from_station_id: string (nullable = true)\n",
      " |-- to_station_id: string (nullable = true)\n",
      " |-- usertype: string (nullable = true)\n",
      " |-- gender: string (nullable = true)\n",
      " |-- birthyear: integer (nullable = true)\n",
      "\n"
     ]
    }
   ],
   "source": [
    "df.printSchema()"
   ]
  },
  {
   "cell_type": "code",
   "execution_count": 5,
   "id": "9715a85d",
   "metadata": {},
   "outputs": [
    {
     "name": "stdout",
     "output_type": "stream",
     "text": [
      "root\n",
      " |-- startdate: string (nullable = true)\n",
      " |-- Max_Temperature_F: integer (nullable = true)\n",
      " |-- Mean_Temperature_F: integer (nullable = true)\n",
      " |-- Min_TemperatureF: integer (nullable = true)\n",
      " |-- Max_Dew_Point_F: integer (nullable = true)\n",
      " |-- MeanDew_Point_F: integer (nullable = true)\n",
      " |-- Min_Dewpoint_F: integer (nullable = true)\n",
      " |-- Max_Humidity: integer (nullable = true)\n",
      " |-- Mean_Humidity: integer (nullable = true)\n",
      " |-- Min_Humidity: integer (nullable = true)\n",
      " |-- Max_Sea_Level_Pressure_In: double (nullable = true)\n",
      " |-- Mean_Sea_Level_Pressure_In: double (nullable = true)\n",
      " |-- Min_Sea_Level_Pressure_In: double (nullable = true)\n",
      " |-- Max_Visibility_Miles: integer (nullable = true)\n",
      " |-- Mean_Visibility_Miles: integer (nullable = true)\n",
      " |-- Min_Visibility_Miles: integer (nullable = true)\n",
      " |-- Max_Wind_Speed_MPH: integer (nullable = true)\n",
      " |-- Mean_Wind_Speed_MPH: integer (nullable = true)\n",
      " |-- Max_Gust_Speed_MPH: integer (nullable = true)\n",
      " |-- Precipitation_In: double (nullable = true)\n",
      " |-- Events: string (nullable = true)\n",
      "\n"
     ]
    }
   ],
   "source": [
    "df_1.printSchema()"
   ]
  },
  {
   "cell_type": "code",
   "execution_count": 6,
   "id": "582c1243",
   "metadata": {},
   "outputs": [
    {
     "name": "stdout",
     "output_type": "stream",
     "text": [
      "+-------+---------+---------+--------+--------+--------+------------+--------------------+--------------------+---------------+-------------+--------------------+------+---------+\n",
      "|trip_id|startdate|starttime|stopdata|stoptime|  bikeid|tripduration|   from_station_name|     to_station_name|from_station_id|to_station_id|            usertype|gender|birthyear|\n",
      "+-------+---------+---------+--------+--------+--------+------------+--------------------+--------------------+---------------+-------------+--------------------+------+---------+\n",
      "|      1| 1/1/2016|     0:36|1/1/2016|    0:48|SEA00480|     734.096|PATH / 9th Ave & ...|Summit Ave & E De...|         SLU-07|        CH-01|Short-Term Pass H...|     M|     null|\n",
      "|      2| 1/1/2016|     0:43|1/1/2016|    0:54|SEA00392|     644.455|Bellevue Ave & E ...|Dexter Ave N & Al...|          CH-12|       SLU-02|              Member|  Male|     1982|\n",
      "|      3| 1/1/2016|     0:47|1/1/2016|    1:05|SEA00276|    1078.579|Key Arena / 1st A...| 1st Ave & Marion St|         SLU-19|       CBD-05|Short-Term Pass H...|  Male|     null|\n",
      "|      4| 1/1/2016|     0:47|1/1/2016|    1:05|SEA00335|     770.696|Key Arena / 1st A...| 1st Ave & Marion St|         SLU-19|       CBD-05|Short-Term Pass H...|  Male|     null|\n",
      "|      5| 1/1/2016|     1:10|1/1/2016|    1:51|SEA00071|     797.304|   2nd Ave & Pine St| 1st Ave & Marion St|         CBD-13|       CBD-05|Short-Term Pass H...|  Male|     null|\n",
      "|      6| 1/1/2016|     1:11|1/1/2016|    1:20|SEA00382|     856.238|REI / Yale Ave N ...|E Blaine St & Fai...|         SLU-01|        EL-03|              Member|  Male|     1990|\n",
      "|      7| 1/1/2016|     1:11|1/1/2016|    1:20|SEA00338|     514.811|REI / Yale Ave N ...|E Blaine St & Fai...|         SLU-01|        EL-03|              Member|Female|     1983|\n",
      "|      8| 1/1/2016|     1:17|1/1/2016|    1:25|SEA00205|     741.016|   Pine St & 9th Ave|Republican St & W...|         SLU-16|       SLU-04|              Member|  Male|     1983|\n",
      "|      9| 1/1/2016|     1:26|1/1/2016|    1:34|SEA00480|     736.474|Summit Ave & E De...|12th Ave & E Merc...|          CH-01|        CH-15|Short-Term Pass H...|  Male|     null|\n",
      "|     10| 1/1/2016|     1:26|1/1/2016|    1:34|SEA00149|     499.128|Summit Ave & E De...|12th Ave & E Merc...|          CH-01|        CH-15|Short-Term Pass H...|  Male|     null|\n",
      "+-------+---------+---------+--------+--------+--------+------------+--------------------+--------------------+---------------+-------------+--------------------+------+---------+\n",
      "only showing top 10 rows\n",
      "\n"
     ]
    }
   ],
   "source": [
    "df.show(10)"
   ]
  },
  {
   "cell_type": "code",
   "execution_count": 7,
   "id": "1ab62927",
   "metadata": {},
   "outputs": [
    {
     "name": "stdout",
     "output_type": "stream",
     "text": [
      "+---------+-----------------+------------------+----------------+---------------+---------------+--------------+------------+-------------+------------+-------------------------+--------------------------+-------------------------+--------------------+---------------------+--------------------+------------------+-------------------+------------------+----------------+---------+\n",
      "|startdate|Max_Temperature_F|Mean_Temperature_F|Min_TemperatureF|Max_Dew_Point_F|MeanDew_Point_F|Min_Dewpoint_F|Max_Humidity|Mean_Humidity|Min_Humidity|Max_Sea_Level_Pressure_In|Mean_Sea_Level_Pressure_In|Min_Sea_Level_Pressure_In|Max_Visibility_Miles|Mean_Visibility_Miles|Min_Visibility_Miles|Max_Wind_Speed_MPH|Mean_Wind_Speed_MPH|Max_Gust_Speed_MPH|Precipitation_In|   Events|\n",
      "+---------+-----------------+------------------+----------------+---------------+---------------+--------------+------------+-------------+------------+-------------------------+--------------------------+-------------------------+--------------------+---------------------+--------------------+------------------+-------------------+------------------+----------------+---------+\n",
      "| 1/1/2016|               44|                34|              25|             30|             25|            21|          92|           76|          43|                    30.49|                     30.38|                    30.27|                  10|                   10|                   6|                 5|                  1|              null|             0.0|     null|\n",
      "| 1/2/2016|               44|                34|              23|             30|             23|            13|          96|           73|          33|                    30.26|                     30.19|                    30.11|                  10|                    9|                   6|                 8|                  2|              null|             0.0|     null|\n",
      "| 1/3/2016|               39|                34|              28|             34|             26|            14|          87|           67|          35|                    30.09|                     29.96|                    29.86|                  10|                    9|                   3|                14|                  4|              null|            0.01|Rain-Snow|\n",
      "| 1/4/2016|               39|                38|              37|             34|             33|            32|          87|           83|          76|                    29.84|                     29.77|                    29.67|                  10|                    6|                   2|                 8|                  1|              null|            0.07|     Rain|\n",
      "| 1/5/2016|               44|                40|              37|             39|             33|            32|         100|           73|          63|                     29.6|                     29.58|                    29.56|                  10|                    8|                   5|                 5|                  1|              null|            0.11|     Rain|\n",
      "| 1/6/2016|               51|                43|              35|             42|             39|            35|         100|           90|          66|                    29.76|                     29.65|                    29.59|                  10|                    9|                   2|                 7|                  1|              null|             0.0|     null|\n",
      "| 1/7/2016|               45|                38|              32|             41|             37|            32|         100|           93|          81|                    30.03|                     29.91|                    29.77|                  10|                    6|                   0|                 6|                  2|              null|             0.0|      Fog|\n",
      "| 1/8/2016|               48|                39|              30|             42|             38|            30|         100|           93|          74|                    30.08|                     30.04|                    30.01|                  10|                    6|                   0|                 7|                  1|              null|             0.0|      Fog|\n",
      "| 1/9/2016|               48|                39|              30|             41|             36|            30|         100|           92|          66|                    30.22|                      30.1|                    30.01|                  10|                    5|                   0|                 6|                  1|              null|             0.0|      Fog|\n",
      "|1/10/2016|               51|                43|              32|             39|             32|            25|          93|           69|          50|                    30.27|                     30.21|                    30.15|                  10|                   10|                   9|                 8|                  2|              null|             0.0|     null|\n",
      "+---------+-----------------+------------------+----------------+---------------+---------------+--------------+------------+-------------+------------+-------------------------+--------------------------+-------------------------+--------------------+---------------------+--------------------+------------------+-------------------+------------------+----------------+---------+\n",
      "only showing top 10 rows\n",
      "\n"
     ]
    }
   ],
   "source": [
    "df_1.show(10)"
   ]
  },
  {
   "cell_type": "code",
   "execution_count": 8,
   "id": "ed349a90",
   "metadata": {},
   "outputs": [
    {
     "data": {
      "text/plain": [
       "['trip_id',\n",
       " 'startdate',\n",
       " 'starttime',\n",
       " 'stopdata',\n",
       " 'stoptime',\n",
       " 'bikeid',\n",
       " 'tripduration',\n",
       " 'from_station_name',\n",
       " 'to_station_name',\n",
       " 'from_station_id',\n",
       " 'to_station_id',\n",
       " 'usertype',\n",
       " 'gender',\n",
       " 'birthyear']"
      ]
     },
     "execution_count": 8,
     "metadata": {},
     "output_type": "execute_result"
    }
   ],
   "source": [
    "df.columns"
   ]
  },
  {
   "cell_type": "code",
   "execution_count": 9,
   "id": "a43389d5",
   "metadata": {},
   "outputs": [
    {
     "name": "stderr",
     "output_type": "stream",
     "text": [
      "[Stage 6:=============================>                             (1 + 1) / 2]\r"
     ]
    },
    {
     "name": "stdout",
     "output_type": "stream",
     "text": [
      "+-------+------------------+---------+---------+--------+--------+--------+------------------+--------------------+--------------------+---------------+-------------+--------------------+------+------------------+\n",
      "|summary|           trip_id|startdate|starttime|stopdata|stoptime|  bikeid|      tripduration|   from_station_name|     to_station_name|from_station_id|to_station_id|            usertype|gender|         birthyear|\n",
      "+-------+------------------+---------+---------+--------+--------+--------+------------------+--------------------+--------------------+---------------+-------------+--------------------+------+------------------+\n",
      "|  count|             48984|    48984|    48984|   48984|   48984|   48984|             48984|               48984|               48984|          48984|        48984|               48984| 48984|             31270|\n",
      "|   mean|           24492.5|     null|     null|    null|    null|    null|1264.9614109709287|                null|                null|           null|         null|                null|  null|1979.8150303805564|\n",
      "| stddev|14140.607129822962|     null|     null|    null|    null|    null|1881.4033008852307|                null|                null|           null|         null|                null|  null| 10.29965212907769|\n",
      "|    min|                 1| 1/1/2016|     0:00|1/1/2016|    0:00|SEA00001|             34.05|12th Ave & E Denn...|12th Ave & E Denn...|          BT-01|        BT-01|              Member|     F|              1936|\n",
      "|    max|             48984| 6/9/2016|     9:59|6/9/2016|    9:59|SEA00500|         28779.864|Westlake Ave & 6t...|Westlake Ave & 6t...|          WF-04|        WF-04|Short-Term Pass H...| Other|              1997|\n",
      "+-------+------------------+---------+---------+--------+--------+--------+------------------+--------------------+--------------------+---------------+-------------+--------------------+------+------------------+\n",
      "\n"
     ]
    },
    {
     "name": "stderr",
     "output_type": "stream",
     "text": [
      "\r",
      "                                                                                \r"
     ]
    }
   ],
   "source": [
    "df.describe().show()"
   ]
  },
  {
   "cell_type": "code",
   "execution_count": 4,
   "id": "3789bfee",
   "metadata": {},
   "outputs": [],
   "source": [
    "import matplotlib.pyplot as plt"
   ]
  },
  {
   "cell_type": "code",
   "execution_count": 11,
   "id": "fafd656b",
   "metadata": {},
   "outputs": [
    {
     "data": {
      "image/png": "[encoded data removed]",
      "text/plain": [
       "<Figure size 576x432 with 1 Axes>"
      ]
     },
     "metadata": {
      "needs_background": "light"
     },
     "output_type": "display_data"
    }
   ],
   "source": [
    "gender_counts = df.groupBy('gender').count().orderBy('gender')\n",
    "\n",
    "\n",
    "gender_counts_pandas = gender_counts.toPandas()\n",
    "\n",
    "plt.figure(figsize=(8, 6))\n",
    "plt.bar(gender_counts_pandas['gender'], gender_counts_pandas['count'], color='skyblue')\n",
    "plt.title('Gender Distribution')\n",
    "plt.xlabel('Gender')\n",
    "plt.ylabel('Count')\n",
    "plt.show()"
   ]
  },
  {
   "cell_type": "code",
   "execution_count": 12,
   "id": "423b5af0",
   "metadata": {},
   "outputs": [
    {
     "data": {
      "image/png": "[encoded data removed]",
      "text/plain": [
       "<Figure size 720x432 with 1 Axes>"
      ]
     },
     "metadata": {
      "needs_background": "light"
     },
     "output_type": "display_data"
    }
   ],
   "source": [
    "pandas_df = df.select('usertype', 'tripduration').toPandas()\n",
    "\n",
    "\n",
    "plt.figure(figsize=(10, 6))\n",
    "plt.scatter(pandas_df['usertype'], pandas_df['tripduration'], alpha=0.5)\n",
    "plt.xlabel('Usertype')\n",
    "plt.ylabel('Tripduration')\n",
    "plt.show()"
   ]
  },
  {
   "cell_type": "code",
   "execution_count": 13,
   "id": "d49e4ddc",
   "metadata": {},
   "outputs": [
    {
     "data": {
      "image/png": "[encoded data removed]",
      "text/plain": [
       "<Figure size 576x432 with 1 Axes>"
      ]
     },
     "metadata": {
      "needs_background": "light"
     },
     "output_type": "display_data"
    }
   ],
   "source": [
    "plt.figure(figsize=(8, 6))\n",
    "pandas_df.boxplot(column='tripduration')\n",
    "\n",
    "plt.ylabel('Tripduration')\n",
    "plt.show()"
   ]
  },
  {
   "cell_type": "code",
   "execution_count": 14,
   "id": "867815f7",
   "metadata": {
    "scrolled": true
   },
   "outputs": [
    {
     "data": {
      "image/png": "[encoded data removed]",
      "text/plain": [
       "<Figure size 576x432 with 1 Axes>"
      ]
     },
     "metadata": {
      "needs_background": "light"
     },
     "output_type": "display_data"
    }
   ],
   "source": [
    "processed_df = df.select('tripduration')\n",
    "\n",
    "pandas_df = processed_df.toPandas()\n",
    "\n",
    "plt.figure(figsize=(8, 6))\n",
    "plt.hist(pandas_df['tripduration'], bins=30, edgecolor='black')\n",
    "\n",
    "plt.xlabel('Tripduration')\n",
    "plt.ylabel('Frequency')\n",
    "plt.show()"
   ]
  },
  {
   "cell_type": "code",
   "execution_count": 15,
   "id": "23fda7cd",
   "metadata": {
    "scrolled": true
   },
   "outputs": [
    {
     "name": "stdout",
     "output_type": "stream",
     "text": [
      "+------+\n",
      "|gender|\n",
      "+------+\n",
      "|     M|\n",
      "|  Male|\n",
      "|  Male|\n",
      "|  Male|\n",
      "|  Male|\n",
      "|  Male|\n",
      "|Female|\n",
      "|  Male|\n",
      "|  Male|\n",
      "|  Male|\n",
      "|  Male|\n",
      "|  Male|\n",
      "|     M|\n",
      "|  Male|\n",
      "|  Male|\n",
      "|     M|\n",
      "|  Male|\n",
      "|  Male|\n",
      "|  Male|\n",
      "|  Male|\n",
      "+------+\n",
      "only showing top 20 rows\n",
      "\n"
     ]
    }
   ],
   "source": [
    "df.select('gender').show()"
   ]
  },
  {
   "cell_type": "markdown",
   "id": "4cbd5c38",
   "metadata": {},
   "source": [
    "03-DP"
   ]
  },
  {
   "cell_type": "code",
   "execution_count": 16,
   "id": "8ebaa1d4",
   "metadata": {},
   "outputs": [
    {
     "data": {
      "image/png": "[encoded data removed]",
      "text/plain": [
       "<Figure size 720x432 with 1 Axes>"
      ]
     },
     "metadata": {
      "needs_background": "light"
     },
     "output_type": "display_data"
    }
   ],
   "source": [
    "birthyear_column = df.select('birthyear').toPandas()\n",
    "\n",
    "plt.figure(figsize=(10, 6))\n",
    "plt.hist(birthyear_column['birthyear'], bins=30, edgecolor='black')\n",
    "plt.title('Histogram of Birthyears')\n",
    "plt.xlabel('Birthyear')\n",
    "plt.ylabel('Frequency')\n",
    "plt.show()"
   ]
  },
  {
   "cell_type": "code",
   "execution_count": 5,
   "id": "ca64a87e",
   "metadata": {},
   "outputs": [],
   "source": [
    "from pyspark.sql.functions import col, stddev, mean\n",
    "from pyspark.sql.window import Window"
   ]
  },
  {
   "cell_type": "code",
   "execution_count": 6,
   "id": "6d660197",
   "metadata": {},
   "outputs": [
    {
     "data": {
      "image/png": "[encoded data removed]",
      "text/plain": [
       "<Figure size 576x432 with 1 Axes>"
      ]
     },
     "metadata": {
      "needs_background": "light"
     },
     "output_type": "display_data"
    },
    {
     "name": "stdout",
     "output_type": "stream",
     "text": [
      "root\n",
      " |-- trip_id: integer (nullable = true)\n",
      " |-- startdate: string (nullable = true)\n",
      " |-- starttime: string (nullable = true)\n",
      " |-- stopdata: string (nullable = true)\n",
      " |-- stoptime: string (nullable = true)\n",
      " |-- bikeid: string (nullable = true)\n",
      " |-- tripduration: double (nullable = true)\n",
      " |-- from_station_name: string (nullable = true)\n",
      " |-- to_station_name: string (nullable = true)\n",
      " |-- from_station_id: string (nullable = true)\n",
      " |-- to_station_id: string (nullable = true)\n",
      " |-- usertype: string (nullable = true)\n",
      " |-- gender: string (nullable = true)\n",
      " |-- birthyear: integer (nullable = true)\n",
      "\n"
     ]
    }
   ],
   "source": [
    "tripduration_mean = df.select(mean('tripduration')).first()[0]\n",
    "tripduration_stddev = df.select(stddev('tripduration')).first()[0]\n",
    "\n",
    "\n",
    "threshold = 3\n",
    "df_filtered = df.withColumn('tripduration_Zscore', (col('tripduration') - tripduration_mean) / tripduration_stddev) \\\n",
    "                .filter(col('tripduration_Zscore') <= threshold) \\\n",
    "                .drop('tripduration_Zscore')\n",
    "\n",
    "\n",
    "tripduration_data = df_filtered.select('tripduration').toPandas()\n",
    "plt.figure(figsize=(8, 6))\n",
    "plt.boxplot(tripduration_data['tripduration'])\n",
    "plt.title('Box Plot of Tripduration')\n",
    "plt.ylabel('Tripduration')\n",
    "plt.show()\n",
    "\n",
    "\n",
    "df_filtered.printSchema()"
   ]
  },
  {
   "cell_type": "code",
   "execution_count": 7,
   "id": "73ccd1a8",
   "metadata": {
    "scrolled": true
   },
   "outputs": [
    {
     "name": "stdout",
     "output_type": "stream",
     "text": [
      "+-------+------------------+\n",
      "|summary|      tripduration|\n",
      "+-------+------------------+\n",
      "|  count|             48179|\n",
      "|   mean|1084.4333713858725|\n",
      "| stddev|1006.9832332421826|\n",
      "|    min|             34.05|\n",
      "|    max|          6908.592|\n",
      "+-------+------------------+\n",
      "\n"
     ]
    }
   ],
   "source": [
    "tripduration_summary = df_filtered.select('tripduration').describe()\n",
    "\n",
    "\n",
    "tripduration_summary.show()"
   ]
  },
  {
   "cell_type": "code",
   "execution_count": 8,
   "id": "5c6af6a0",
   "metadata": {},
   "outputs": [
    {
     "data": {
      "image/png": "[encoded data removed]",
      "text/plain": [
       "<Figure size 720x432 with 1 Axes>"
      ]
     },
     "metadata": {
      "needs_background": "light"
     },
     "output_type": "display_data"
    }
   ],
   "source": [
    "histogram_data = df_filtered.select('tripduration').toPandas()\n",
    "\n",
    "plt.figure(figsize=(10, 6))\n",
    "plt.hist(histogram_data['tripduration'], bins=30, edgecolor='black')\n",
    "plt.title('Histogram of Tripduration')\n",
    "plt.xlabel('Tripduration')\n",
    "plt.ylabel('Frequency')\n",
    "plt.show()"
   ]
  },
  {
   "cell_type": "code",
   "execution_count": 21,
   "id": "3e4f4e7f",
   "metadata": {},
   "outputs": [
    {
     "name": "stdout",
     "output_type": "stream",
     "text": [
      "+------+-----+\n",
      "|gender|count|\n",
      "+------+-----+\n",
      "|     F|  318|\n",
      "|Female| 8763|\n",
      "|     M| 1968|\n",
      "| Other|  886|\n",
      "|  Male|36244|\n",
      "+------+-----+\n",
      "\n"
     ]
    }
   ],
   "source": [
    "gender_counts = df_filtered.groupBy('gender').count()\n",
    "\n",
    "gender_counts.show()"
   ]
  },
  {
   "cell_type": "code",
   "execution_count": 22,
   "id": "004f77cc",
   "metadata": {},
   "outputs": [
    {
     "data": {
      "image/png": "[encoded data removed]",
      "text/plain": [
       "<Figure size 576x432 with 1 Axes>"
      ]
     },
     "metadata": {
      "needs_background": "light"
     },
     "output_type": "display_data"
    }
   ],
   "source": [
    "gender_counts_pd = gender_counts.toPandas()\n",
    "\n",
    "plt.figure(figsize=(8, 6))\n",
    "plt.bar(gender_counts_pd['gender'], gender_counts_pd['count'])\n",
    "plt.title('Gender Counts Before Cleaning')\n",
    "plt.xlabel('Gender')\n",
    "plt.ylabel('Count')\n",
    "plt.show()"
   ]
  },
  {
   "cell_type": "code",
   "execution_count": 8,
   "id": "c445329c",
   "metadata": {},
   "outputs": [],
   "source": [
    "from pyspark.sql.functions import when, count"
   ]
  },
  {
   "cell_type": "code",
   "execution_count": 9,
   "id": "44bc3a13",
   "metadata": {},
   "outputs": [
    {
     "name": "stdout",
     "output_type": "stream",
     "text": [
      "+------+-----+\n",
      "|gender|count|\n",
      "+------+-----+\n",
      "|Female| 9081|\n",
      "| Other|  886|\n",
      "|  Male|38212|\n",
      "+------+-----+\n",
      "\n"
     ]
    }
   ],
   "source": [
    "df = df_filtered.withColumn('gender', \n",
    "                             when(col('gender') == 'F', 'Female')\n",
    "                            .when(col('gender') == 'Female', 'Female')\n",
    "                            .when(col('gender') == 'M', 'Male')\n",
    "                            .when(col('gender') == 'Male', 'Male')\n",
    "                            .otherwise(col('gender')))\n",
    "\n",
    "\n",
    "gender_counts = df.groupBy('gender').agg(count('*').alias('count'))\n",
    "\n",
    "gender_counts.show()\n",
    "\n",
    "\n",
    "gender_counts_pd = gender_counts.toPandas()"
   ]
  },
  {
   "cell_type": "code",
   "execution_count": 25,
   "id": "a3db2952",
   "metadata": {},
   "outputs": [
    {
     "data": {
      "image/png": "[encoded data removed]",
      "text/plain": [
       "<Figure size 576x432 with 1 Axes>"
      ]
     },
     "metadata": {
      "needs_background": "light"
     },
     "output_type": "display_data"
    }
   ],
   "source": [
    "plt.figure(figsize=(8, 6))\n",
    "plt.bar(gender_counts_pd['gender'], gender_counts_pd['count'])\n",
    "plt.title('Gender Counts')\n",
    "plt.xlabel('Gender')\n",
    "plt.ylabel('Count')\n",
    "plt.show()"
   ]
  },
  {
   "cell_type": "code",
   "execution_count": 10,
   "id": "9eb01cbd",
   "metadata": {},
   "outputs": [],
   "source": [
    "mean_birthyear = df.select(mean('birthyear')).first()[0]\n",
    "mean_birthyear = round(mean_birthyear)\n",
    "\n",
    "df = df.withColumn('birthyear', when(col('birthyear').isNull(), mean_birthyear).otherwise(col('birthyear')))"
   ]
  },
  {
   "cell_type": "code",
   "execution_count": 11,
   "id": "4cf70b2f",
   "metadata": {},
   "outputs": [
    {
     "data": {
      "image/png": "[encoded data removed]",
      "text/plain": [
       "<Figure size 576x432 with 1 Axes>"
      ]
     },
     "metadata": {
      "needs_background": "light"
     },
     "output_type": "display_data"
    }
   ],
   "source": [
    "birthyear_data = df.select('birthyear').toPandas()\n",
    "\n",
    "plt.figure(figsize=(8, 6))\n",
    "plt.hist(birthyear_data['birthyear'], bins=30, edgecolor='black')\n",
    "plt.title('Histogram of Birth Year')\n",
    "plt.xlabel('Birth Year')\n",
    "plt.ylabel('Frequency')\n",
    "plt.show()"
   ]
  },
  {
   "cell_type": "code",
   "execution_count": 28,
   "id": "48ccf883",
   "metadata": {},
   "outputs": [
    {
     "name": "stderr",
     "output_type": "stream",
     "text": [
      "[Stage 48:=============================>                            (1 + 1) / 2]\r"
     ]
    },
    {
     "name": "stdout",
     "output_type": "stream",
     "text": [
      "+-------+------------------+---------+---------+--------+--------+--------+------------------+--------------------+--------------------+---------------+-------------+--------------------+------+------------------+\n",
      "|summary|           trip_id|startdate|starttime|stopdata|stoptime|  bikeid|      tripduration|   from_station_name|     to_station_name|from_station_id|to_station_id|            usertype|gender|         birthyear|\n",
      "+-------+------------------+---------+---------+--------+--------+--------+------------------+--------------------+--------------------+---------------+-------------+--------------------+------+------------------+\n",
      "|  count|             48179|    48179|    48179|   48179|   48179|   48179|             48179|               48179|               48179|          48179|        48179|               48179| 48179|             48179|\n",
      "|   mean|24293.627306502833|     null|     null|    null|    null|    null|1084.4333713858725|                null|                null|           null|         null|                null|  null|1979.8815874136035|\n",
      "| stddev|14134.119244294849|     null|     null|    null|    null|    null|1006.9832332421826|                null|                null|           null|         null|                null|  null| 8.237557343904653|\n",
      "|    min|                 1| 1/1/2016|     0:00|1/1/2016|    0:00|SEA00001|             34.05|12th Ave & E Denn...|12th Ave & E Denn...|          BT-01|        BT-01|              Member|Female|              1936|\n",
      "|    max|             48984| 6/9/2016|     9:59|6/9/2016|    9:59|SEA00500|          6908.592|Westlake Ave & 6t...|Westlake Ave & 6t...|          WF-04|        WF-04|Short-Term Pass H...| Other|              1997|\n",
      "+-------+------------------+---------+---------+--------+--------+--------+------------------+--------------------+--------------------+---------------+-------------+--------------------+------+------------------+\n",
      "\n"
     ]
    },
    {
     "name": "stderr",
     "output_type": "stream",
     "text": [
      "\r",
      "                                                                                \r"
     ]
    }
   ],
   "source": [
    "df.describe().show()"
   ]
  },
  {
   "cell_type": "code",
   "execution_count": 12,
   "id": "59db677a",
   "metadata": {},
   "outputs": [],
   "source": [
    "df = df.withColumn(\n",
    "    \"tripduration_Group\",\n",
    "    when((col(\"tripduration\") >= 34) & (col(\"tripduration\") < 2520), \"Short\")\n",
    "    .when((col(\"tripduration\") >= 2520) & (col(\"tripduration\") <= 6909), \"Long\")\n",
    ")\n"
   ]
  },
  {
   "cell_type": "code",
   "execution_count": 13,
   "id": "a7fb3a03",
   "metadata": {},
   "outputs": [
    {
     "data": {
      "image/png": "[encoded data removed]",
      "text/plain": [
       "<Figure size 432x288 with 1 Axes>"
      ]
     },
     "metadata": {
      "needs_background": "light"
     },
     "output_type": "display_data"
    }
   ],
   "source": [
    "tripduration_grouped_df = df.groupBy(\"tripduration_Group\").count()\n",
    "tripduration_group_counts_pd = tripduration_grouped_df.toPandas()\n",
    "tripduration_group_counts_pd.plot.bar(x='tripduration_Group', y='count', rot=0, legend=None)\n",
    "plt.xlabel('Tripduration Group')\n",
    "plt.ylabel('Count')\n",
    "plt.title('Distribution of Tripduration Groups')\n",
    "plt.show()\n"
   ]
  },
  {
   "cell_type": "code",
   "execution_count": 31,
   "id": "6b80b41c",
   "metadata": {},
   "outputs": [
    {
     "name": "stdout",
     "output_type": "stream",
     "text": [
      "+-------+---------+---------+--------+--------+--------+------------+--------------------+--------------------+---------------+-------------+--------------------+------+---------+------------------+\n",
      "|trip_id|startdate|starttime|stopdata|stoptime|  bikeid|tripduration|   from_station_name|     to_station_name|from_station_id|to_station_id|            usertype|gender|birthyear|tripduration_Group|\n",
      "+-------+---------+---------+--------+--------+--------+------------+--------------------+--------------------+---------------+-------------+--------------------+------+---------+------------------+\n",
      "|      1| 1/1/2016|     0:36|1/1/2016|    0:48|SEA00480|     734.096|PATH / 9th Ave & ...|Summit Ave & E De...|         SLU-07|        CH-01|Short-Term Pass H...|  Male|     1980|             Short|\n",
      "|      2| 1/1/2016|     0:43|1/1/2016|    0:54|SEA00392|     644.455|Bellevue Ave & E ...|Dexter Ave N & Al...|          CH-12|       SLU-02|              Member|  Male|     1982|             Short|\n",
      "|      3| 1/1/2016|     0:47|1/1/2016|    1:05|SEA00276|    1078.579|Key Arena / 1st A...| 1st Ave & Marion St|         SLU-19|       CBD-05|Short-Term Pass H...|  Male|     1980|             Short|\n",
      "|      4| 1/1/2016|     0:47|1/1/2016|    1:05|SEA00335|     770.696|Key Arena / 1st A...| 1st Ave & Marion St|         SLU-19|       CBD-05|Short-Term Pass H...|  Male|     1980|             Short|\n",
      "|      5| 1/1/2016|     1:10|1/1/2016|    1:51|SEA00071|     797.304|   2nd Ave & Pine St| 1st Ave & Marion St|         CBD-13|       CBD-05|Short-Term Pass H...|  Male|     1980|             Short|\n",
      "|      6| 1/1/2016|     1:11|1/1/2016|    1:20|SEA00382|     856.238|REI / Yale Ave N ...|E Blaine St & Fai...|         SLU-01|        EL-03|              Member|  Male|     1990|             Short|\n",
      "|      7| 1/1/2016|     1:11|1/1/2016|    1:20|SEA00338|     514.811|REI / Yale Ave N ...|E Blaine St & Fai...|         SLU-01|        EL-03|              Member|Female|     1983|             Short|\n",
      "|      8| 1/1/2016|     1:17|1/1/2016|    1:25|SEA00205|     741.016|   Pine St & 9th Ave|Republican St & W...|         SLU-16|       SLU-04|              Member|  Male|     1983|             Short|\n",
      "|      9| 1/1/2016|     1:26|1/1/2016|    1:34|SEA00480|     736.474|Summit Ave & E De...|12th Ave & E Merc...|          CH-01|        CH-15|Short-Term Pass H...|  Male|     1980|             Short|\n",
      "|     10| 1/1/2016|     1:26|1/1/2016|    1:34|SEA00149|     499.128|Summit Ave & E De...|12th Ave & E Merc...|          CH-01|        CH-15|Short-Term Pass H...|  Male|     1980|             Short|\n",
      "|     11| 1/1/2016|     1:29|1/1/2016|    1:50|SEA00393|     480.574|Cal Anderson Park...|King Street Stati...|          CH-08|        PS-05|Short-Term Pass H...|  Male|     1980|             Short|\n",
      "|     12| 1/1/2016|     1:29|1/1/2016|    1:50|SEA00101|     436.445|Cal Anderson Park...|King Street Stati...|          CH-08|        PS-05|Short-Term Pass H...|  Male|     1980|             Short|\n",
      "|     13| 1/1/2016|     1:31|1/1/2016|    1:50|SEA00292|     272.029|Cal Anderson Park...|King Street Stati...|          CH-08|        PS-05|Short-Term Pass H...|  Male|     1980|             Short|\n",
      "|     14| 1/1/2016|     1:32|1/1/2016|    1:45|SEA00016|     481.684|Cal Anderson Park...|Westlake Ave & 6t...|          CH-08|       SLU-15|Short-Term Pass H...|  Male|     1980|             Short|\n",
      "|     15| 1/1/2016|     1:33|1/1/2016|    1:50|SEA00422|    1035.892|Cal Anderson Park...|King Street Stati...|          CH-08|        PS-05|Short-Term Pass H...|  Male|     1980|             Short|\n",
      "|     16| 1/1/2016|     1:33|1/1/2016|    1:37|SEA00321|     649.525|E Harrison St & B...|Cal Anderson Park...|          CH-02|        CH-08|              Member|  Male|     1993|             Short|\n",
      "|     17| 1/1/2016|     1:46|1/1/2016|    1:51|SEA00499|     869.444|2nd Ave & Blancha...| 1st Ave & Marion St|          BT-05|       CBD-05|Short-Term Pass H...|  Male|     1980|             Short|\n",
      "|     18| 1/1/2016|     2:00|1/1/2016|    2:11|SEA00033|     691.471|PATH / 9th Ave & ...|   Pine St & 9th Ave|         SLU-07|       SLU-16|              Member|  Male|     1983|             Short|\n",
      "|     19| 1/1/2016|     2:21|1/1/2016|    2:33|SEA00125|     738.556|  3rd Ave & Broad St|   Pine St & 9th Ave|          BT-01|       SLU-16|              Member|  Male|     1988|             Short|\n",
      "|     20| 1/1/2016|     2:37|1/1/2016|    2:49|SEA00157|    1053.753|   Pine St & 9th Ave|E Pine St & 16th Ave|         SLU-16|        CH-07|              Member|  Male|     1988|             Short|\n",
      "+-------+---------+---------+--------+--------+--------+------------+--------------------+--------------------+---------------+-------------+--------------------+------+---------+------------------+\n",
      "only showing top 20 rows\n",
      "\n"
     ]
    }
   ],
   "source": [
    "df.show()"
   ]
  },
  {
   "cell_type": "code",
   "execution_count": 14,
   "id": "3a1fec6e",
   "metadata": {},
   "outputs": [
    {
     "name": "stderr",
     "output_type": "stream",
     "text": [
      "24/05/13 19:39:17 WARN package: Truncated the string representation of a plan since it was too large. This behavior can be adjusted by setting 'spark.sql.debug.maxToStringFields'.\n"
     ]
    },
    {
     "name": "stdout",
     "output_type": "stream",
     "text": [
      "+---------+-------+---------+--------+--------+--------+------------+--------------------+--------------------+---------------+-------------+--------------------+------+---------+------------------+-----------------+------------------+----------------+---------------+---------------+--------------+------------+-------------+------------+-------------------------+--------------------------+-------------------------+--------------------+---------------------+--------------------+------------------+-------------------+------------------+----------------+------+\n",
      "|startdate|trip_id|starttime|stopdata|stoptime|  bikeid|tripduration|   from_station_name|     to_station_name|from_station_id|to_station_id|            usertype|gender|birthyear|tripduration_Group|Max_Temperature_F|Mean_Temperature_F|Min_TemperatureF|Max_Dew_Point_F|MeanDew_Point_F|Min_Dewpoint_F|Max_Humidity|Mean_Humidity|Min_Humidity|Max_Sea_Level_Pressure_In|Mean_Sea_Level_Pressure_In|Min_Sea_Level_Pressure_In|Max_Visibility_Miles|Mean_Visibility_Miles|Min_Visibility_Miles|Max_Wind_Speed_MPH|Mean_Wind_Speed_MPH|Max_Gust_Speed_MPH|Precipitation_In|Events|\n",
      "+---------+-------+---------+--------+--------+--------+------------+--------------------+--------------------+---------------+-------------+--------------------+------+---------+------------------+-----------------+------------------+----------------+---------------+---------------+--------------+------------+-------------+------------+-------------------------+--------------------------+-------------------------+--------------------+---------------------+--------------------+------------------+-------------------+------------------+----------------+------+\n",
      "| 1/1/2016|      1|     0:36|1/1/2016|    0:48|SEA00480|     734.096|PATH / 9th Ave & ...|Summit Ave & E De...|         SLU-07|        CH-01|Short-Term Pass H...|  Male|     1980|             Short|               44|                34|              25|             30|             25|            21|          92|           76|          43|                    30.49|                     30.38|                    30.27|                  10|                   10|                   6|                 5|                  1|              null|             0.0|  null|\n",
      "| 1/1/2016|      2|     0:43|1/1/2016|    0:54|SEA00392|     644.455|Bellevue Ave & E ...|Dexter Ave N & Al...|          CH-12|       SLU-02|              Member|  Male|     1982|             Short|               44|                34|              25|             30|             25|            21|          92|           76|          43|                    30.49|                     30.38|                    30.27|                  10|                   10|                   6|                 5|                  1|              null|             0.0|  null|\n",
      "| 1/1/2016|      3|     0:47|1/1/2016|    1:05|SEA00276|    1078.579|Key Arena / 1st A...| 1st Ave & Marion St|         SLU-19|       CBD-05|Short-Term Pass H...|  Male|     1980|             Short|               44|                34|              25|             30|             25|            21|          92|           76|          43|                    30.49|                     30.38|                    30.27|                  10|                   10|                   6|                 5|                  1|              null|             0.0|  null|\n",
      "+---------+-------+---------+--------+--------+--------+------------+--------------------+--------------------+---------------+-------------+--------------------+------+---------+------------------+-----------------+------------------+----------------+---------------+---------------+--------------+------------+-------------+------------+-------------------------+--------------------------+-------------------------+--------------------+---------------------+--------------------+------------------+-------------------+------------------+----------------+------+\n",
      "only showing top 3 rows\n",
      "\n",
      "joined_row: 48179\n",
      "joined_column: 35\n"
     ]
    }
   ],
   "source": [
    "joined_df = df.join(df_1, on='startdate', how='inner')\n",
    "joined_df.show(3)\n",
    "joined_row_count = joined_df.count()\n",
    "print(\"joined_row:\", joined_row_count)\n",
    "joined_column_count = len(joined_df.columns)\n",
    "print(\"joined_column:\", joined_column_count)"
   ]
  },
  {
   "cell_type": "code",
   "execution_count": 33,
   "id": "96de201f",
   "metadata": {},
   "outputs": [
    {
     "name": "stdout",
     "output_type": "stream",
     "text": [
      "selected_row: 48179\n",
      "selected_column: 8\n"
     ]
    }
   ],
   "source": [
    "select_columns = ['tripduration_Group', 'usertype', 'gender', 'birthyear', \n",
    "                   'Mean_Temperature_F', 'Mean_Humidity', 'Precipitation_In', 'Events']\n",
    "\n",
    "df_2 = joined_df.select(select_columns)\n",
    "\n",
    "selected_row_count = df_2.count()\n",
    "print(\"selected_row:\", selected_row_count)\n",
    "selected_column_count = len(df_2.columns)\n",
    "print(\"selected_column:\", selected_column_count)"
   ]
  },
  {
   "cell_type": "markdown",
   "id": "5dc9debd",
   "metadata": {},
   "source": [
    "04-DT"
   ]
  },
  {
   "cell_type": "markdown",
   "id": "130856a4",
   "metadata": {},
   "source": [
    "4.1"
   ]
  },
  {
   "cell_type": "code",
   "execution_count": 15,
   "id": "31f97783",
   "metadata": {
    "scrolled": true
   },
   "outputs": [
    {
     "name": "stderr",
     "output_type": "stream",
     "text": [
      "[Stage 39:=============================>                            (1 + 1) / 2]\r"
     ]
    },
    {
     "name": "stdout",
     "output_type": "stream",
     "text": [
      "Mean_Temperature_F\n",
      "Mean_Humidity\n"
     ]
    },
    {
     "name": "stderr",
     "output_type": "stream",
     "text": [
      "\r",
      "                                                                                \r"
     ]
    }
   ],
   "source": [
    "from pyspark.ml.feature import StringIndexer, IndexToString\n",
    "from pyspark.sql.functions import col\n",
    "from pyspark.ml.feature import VectorAssembler\n",
    "from pyspark.ml.feature import ChiSqSelector\n",
    "\n",
    "selected_features = ['Mean_Temperature_F','Mean_Humidity', 'Precipitation_In',  'Mean_Visibility_Miles']\n",
    "\n",
    "\n",
    "indexer = StringIndexer(inputCol='tripduration_Group', outputCol='label')\n",
    "indexed_df = indexer.fit(joined_df).transform(joined_df)\n",
    "\n",
    "assembler = VectorAssembler(inputCols=selected_features, outputCol=\"features\")\n",
    "assembled_df = assembler.transform(indexed_df)\n",
    "\n",
    "selector = ChiSqSelector(featuresCol=\"features\", outputCol=\"selectedFeatures\", labelCol=\"label\", numTopFeatures=2)\n",
    "selected_result = selector.fit(assembled_df).transform(assembled_df)\n",
    "\n",
    "\n",
    "selected_features_df = selected_result.select('selectedFeatures')\n",
    "\n",
    "selected_feature_names = selected_result.schema[\"selectedFeatures\"].metadata[\"ml_attr\"][\"attrs\"][\"numeric\"]\n",
    "\n",
    "for feature in selected_feature_names:\n",
    "    print(feature['name'])\n"
   ]
  },
  {
   "cell_type": "code",
   "execution_count": 18,
   "id": "094fc398",
   "metadata": {},
   "outputs": [
    {
     "data": {
      "image/png": "[encoded data removed]",
      "text/plain": [
       "<Figure size 432x288 with 1 Axes>"
      ]
     },
     "metadata": {
      "needs_background": "light"
     },
     "output_type": "display_data"
    },
    {
     "name": "stdout",
     "output_type": "stream",
     "text": [
      "+------------------+-----+\n",
      "|tripduration_Group|count|\n",
      "+------------------+-----+\n",
      "|              Long| 4238|\n",
      "|             Short|43941|\n",
      "+------------------+-----+\n",
      "\n"
     ]
    }
   ],
   "source": [
    "df_3 = joined_df.select('tripduration_Group', 'Mean_Temperature_F', 'Mean_Humidity')\n",
    "\n",
    "\n",
    "group_counts = df_3.groupBy('tripduration_Group').count().orderBy('tripduration_Group')\n",
    "\n",
    "\n",
    "counts_pd = group_counts.toPandas()\n",
    "\n",
    "plt.bar(counts_pd['tripduration_Group'], counts_pd['count'], color='skyblue')\n",
    "plt.xlabel('Trip Duration Group')\n",
    "plt.ylabel('Count')\n",
    "plt.title('Trip Duration Group Counts')\n",
    "plt.show()\n",
    "\n",
    "group_counts.show()"
   ]
  },
  {
   "cell_type": "code",
   "execution_count": 16,
   "id": "2570f71c",
   "metadata": {},
   "outputs": [],
   "source": [
    "from pyspark.sql.functions import col\n",
    "from pyspark.ml.feature import VectorAssembler\n",
    "from pyspark.ml.feature import StringIndexer\n",
    "from pyspark.ml.feature import StandardScaler\n",
    "from pyspark.ml import Pipeline\n",
    "from pyspark.ml.classification import RandomForestClassifier\n",
    "from pyspark.ml.evaluation import MulticlassClassificationEvaluator\n",
    "from pyspark.ml.tuning import ParamGridBuilder, CrossValidator"
   ]
  },
  {
   "cell_type": "code",
   "execution_count": 19,
   "id": "b05a9cd2",
   "metadata": {},
   "outputs": [],
   "source": [
    "X_2 = df_3.drop('tripduration_Group')\n",
    "from pyspark.sql.functions import rand\n",
    "class_counts = df_3.groupBy('tripduration_Group').count()\n",
    "min_count = class_counts.selectExpr('min(count)').collect()[0][0]\n",
    "undersampled_dfs = []\n",
    "for group in class_counts.collect():\n",
    "    label = group['tripduration_Group']\n",
    "    sampled_df = df_3.filter(df_3['tripduration_Group'] == label).orderBy(rand(seed=42)).limit(min_count)\n",
    "    undersampled_dfs.append(sampled_df)\n",
    "df_4 = undersampled_dfs[0]\n",
    "for i in range(1, len(undersampled_dfs)):\n",
    "    df_4 = df_4.union(undersampled_dfs[i])"
   ]
  },
  {
   "cell_type": "code",
   "execution_count": 20,
   "id": "53e67ee5",
   "metadata": {},
   "outputs": [
    {
     "name": "stdout",
     "output_type": "stream",
     "text": [
      "+------------------+-----+\n",
      "|tripduration_Group|count|\n",
      "+------------------+-----+\n",
      "|              Long| 4238|\n",
      "|             Short| 4238|\n",
      "+------------------+-----+\n",
      "\n"
     ]
    },
    {
     "data": {
      "image/png": "[encoded data removed]",
      "text/plain": [
       "<Figure size 576x432 with 1 Axes>"
      ]
     },
     "metadata": {
      "needs_background": "light"
     },
     "output_type": "display_data"
    }
   ],
   "source": [
    "reduce_distribution = df_4.groupBy('tripduration_Group').count().orderBy('tripduration_Group')\n",
    "reduce_distribution.show()\n",
    "reduce_distribution_pd = reduce_distribution.toPandas()\n",
    "\n",
    "plt.figure(figsize=(8, 6))\n",
    "plt.bar(reduce_distribution_pd['tripduration_Group'],reduce_distribution_pd['count'], color='skyblue')\n",
    "plt.xlabel('tripduration_Group')\n",
    "plt.ylabel('Count')\n",
    "plt.show()"
   ]
  },
  {
   "cell_type": "markdown",
   "id": "20f5ea7d",
   "metadata": {},
   "source": [
    "4.2"
   ]
  },
  {
   "cell_type": "code",
   "execution_count": 44,
   "id": "2da42b0c",
   "metadata": {},
   "outputs": [
    {
     "name": "stdout",
     "output_type": "stream",
     "text": [
      "+-------+------------------+------------------+------------------+\n",
      "|summary|tripduration_Group|Mean_Temperature_F|     Mean_Humidity|\n",
      "+-------+------------------+------------------+------------------+\n",
      "|  count|              8476|              8476|              8476|\n",
      "|   mean|              null|61.248938178386034| 64.94242567248702|\n",
      "| stddev|              null|  9.16467979825562|13.610502207905778|\n",
      "|    min|              Long|                34|                33|\n",
      "|    max|             Short|                78|                95|\n",
      "+-------+------------------+------------------+------------------+\n",
      "\n"
     ]
    }
   ],
   "source": [
    "df_4.describe().show()"
   ]
  },
  {
   "cell_type": "code",
   "execution_count": 21,
   "id": "3cd52983",
   "metadata": {},
   "outputs": [],
   "source": [
    "from pyspark.sql.functions import  log10, skewness, stddev"
   ]
  },
  {
   "cell_type": "code",
   "execution_count": 22,
   "id": "989ada85",
   "metadata": {},
   "outputs": [
    {
     "name": "stdout",
     "output_type": "stream",
     "text": [
      "Skewness of Mean_Temperature_F column: -0.6172391407916606\n"
     ]
    }
   ],
   "source": [
    "temp_skew = df_4.agg(skewness('Mean_Temperature_F')).collect()[0][0]\n",
    "print(\"Skewness of Mean_Temperature_F column:\", temp_skew)"
   ]
  },
  {
   "cell_type": "code",
   "execution_count": 23,
   "id": "0e04329b",
   "metadata": {},
   "outputs": [
    {
     "name": "stdout",
     "output_type": "stream",
     "text": [
      "Standard deviation of Mean_Temperature_F column: 9.16467979825562\n",
      "Standard deviation of Mean_Humidity column: 13.610502207905778\n"
     ]
    }
   ],
   "source": [
    "temp_std = df_4.select(stddev(col('Mean_Temperature_F'))).collect()[0][0]\n",
    "print(\"Standard deviation of Mean_Temperature_F column:\", temp_std)\n",
    "\n",
    "humidity_std = df_4.select(stddev(col('Mean_Humidity'))).collect()[0][0]\n",
    "print(\"Standard deviation of Mean_Humidity column:\", humidity_std)"
   ]
  },
  {
   "cell_type": "code",
   "execution_count": 24,
   "id": "c86965ba",
   "metadata": {},
   "outputs": [],
   "source": [
    "import pyspark.sql.functions as F"
   ]
  },
  {
   "cell_type": "code",
   "execution_count": 25,
   "id": "fb51477d",
   "metadata": {},
   "outputs": [],
   "source": [
    "df_4 = df_4.withColumn('log_Mean_Temperature_F', log10(col('Mean_Temperature_F')))\n",
    "df_4 = df_4.withColumn('log_Mean_Humidity', log10(col('Mean_Humidity')))"
   ]
  },
  {
   "cell_type": "code",
   "execution_count": 55,
   "id": "8780f2b4",
   "metadata": {},
   "outputs": [
    {
     "data": {
      "image/png": "[encoded data removed]",
      "text/plain": [
       "<Figure size 720x432 with 1 Axes>"
      ]
     },
     "metadata": {
      "needs_background": "light"
     },
     "output_type": "display_data"
    },
    {
     "data": {
      "image/png": "[encoded data removed]",
      "text/plain": [
       "<Figure size 720x432 with 1 Axes>"
      ]
     },
     "metadata": {
      "needs_background": "light"
     },
     "output_type": "display_data"
    }
   ],
   "source": [
    "hist_data = df_4.select('log_Mean_Temperature_F', 'log_Mean_Humidity').toPandas()\n",
    "\n",
    "plt.figure(figsize=(10, 6))\n",
    "plt.hist(hist_data['log_Mean_Temperature_F'], bins=20, color='skyblue', alpha=0.7)\n",
    "plt.xlabel('log Mean_Temperature_F')\n",
    "plt.ylabel('Frequency')\n",
    "plt.show()\n",
    "\n",
    "plt.figure(figsize=(10, 6))\n",
    "plt.hist(hist_data['log_Mean_Humidity'], bins=20, color='skyblue', alpha=0.7)\n",
    "plt.xlabel('log Mean_Humidity')\n",
    "plt.ylabel('Frequency')\n",
    "plt.show()"
   ]
  },
  {
   "cell_type": "code",
   "execution_count": 56,
   "id": "11c4bfae",
   "metadata": {},
   "outputs": [
    {
     "name": "stdout",
     "output_type": "stream",
     "text": [
      "+-------+----------------------+\n",
      "|summary|log_Mean_Temperature_F|\n",
      "+-------+----------------------+\n",
      "|  count|                  8476|\n",
      "|   mean|    1.7817525827787077|\n",
      "| stddev|   0.06993250796043544|\n",
      "|    min|    1.5314789170422551|\n",
      "|    max|    1.8920946026904804|\n",
      "+-------+----------------------+\n",
      "\n",
      "+-------+-------------------+\n",
      "|summary|  log_Mean_Humidity|\n",
      "+-------+-------------------+\n",
      "|  count|               8476|\n",
      "|   mean| 1.8026058228864368|\n",
      "| stddev|0.09400288074159822|\n",
      "|    min| 1.5185139398778875|\n",
      "|    max| 1.9777236052888478|\n",
      "+-------+-------------------+\n",
      "\n"
     ]
    }
   ],
   "source": [
    "df_4.select('log_Mean_Temperature_F').describe().show()\n",
    "\n",
    "df_4.select('log_Mean_Humidity').describe().show()"
   ]
  },
  {
   "cell_type": "code",
   "execution_count": 57,
   "id": "0ad89b93",
   "metadata": {},
   "outputs": [
    {
     "name": "stdout",
     "output_type": "stream",
     "text": [
      "root\n",
      " |-- tripduration_Group: string (nullable = true)\n",
      " |-- Mean_Temperature_F: integer (nullable = true)\n",
      " |-- Mean_Humidity: integer (nullable = true)\n",
      "\n"
     ]
    }
   ],
   "source": [
    "df_3.printSchema()"
   ]
  },
  {
   "cell_type": "markdown",
   "id": "ec7a680b",
   "metadata": {},
   "source": [
    "7.1 create the test&train"
   ]
  },
  {
   "cell_type": "code",
   "execution_count": 26,
   "id": "1b68c5e3",
   "metadata": {},
   "outputs": [],
   "source": [
    "# 选择特征列和目标列\n",
    "selected_columns = ['Mean_Temperature_F', 'Mean_Humidity', 'tripduration_Group']\n",
    "df_selected = df_4.select(selected_columns)\n",
    "\n",
    "# 创建特征向量\n",
    "assembler = VectorAssembler(\n",
    "    inputCols=['Mean_Temperature_F', 'Mean_Humidity'],\n",
    "    outputCol='features')\n",
    "\n",
    "# 使用特征向量转换数据集\n",
    "df_assembled = assembler.transform(df_selected)\n",
    "\n",
    "# 将标签列转换为数值型\n",
    "indexer = StringIndexer(inputCol='tripduration_Group', outputCol='label')\n",
    "df_indexed = indexer.fit(df_assembled).transform(df_assembled)"
   ]
  },
  {
   "cell_type": "code",
   "execution_count": 27,
   "id": "d916e878",
   "metadata": {},
   "outputs": [
    {
     "name": "stdout",
     "output_type": "stream",
     "text": [
      "Number of rows in train_data: 6757\n",
      "Number of rows in test_data: 1719\n"
     ]
    }
   ],
   "source": [
    "\n",
    "train_ratio = 0.8\n",
    "seed = 123\n",
    "\n",
    "train_data, test_data = df_indexed.randomSplit([train_ratio, 1 - train_ratio], seed=seed)\n",
    "\n",
    "# Count the number of rows in train_data\n",
    "train_count = train_data.count()\n",
    "\n",
    "# Count the number of rows in test_data\n",
    "test_count = test_data.count()\n",
    "\n",
    "# Print the counts\n",
    "print(\"Number of rows in train_data: {}\".format(train_count))\n",
    "print(\"Number of rows in test_data: {}\".format(test_count))\n"
   ]
  },
  {
   "cell_type": "markdown",
   "id": "c6eec902",
   "metadata": {},
   "source": [
    "7.2.1 Logistics Regression"
   ]
  },
  {
   "cell_type": "code",
   "execution_count": 28,
   "id": "3e37f757",
   "metadata": {},
   "outputs": [],
   "source": [
    "from pyspark.ml.classification import LogisticRegression\n",
    "from pyspark.ml.evaluation import MulticlassClassificationEvaluator"
   ]
  },
  {
   "cell_type": "code",
   "execution_count": 29,
   "id": "2ffec95e",
   "metadata": {},
   "outputs": [
    {
     "name": "stderr",
     "output_type": "stream",
     "text": [
      "24/05/13 19:40:43 WARN InstanceBuilder$NativeBLAS: Failed to load implementation from:dev.ludovic.netlib.blas.JNIBLAS\n",
      "24/05/13 19:40:43 WARN InstanceBuilder$NativeBLAS: Failed to load implementation from:dev.ludovic.netlib.blas.ForeignLinkerBLAS\n"
     ]
    },
    {
     "name": "stdout",
     "output_type": "stream",
     "text": [
      "Logistic Regression's Accuracy: 0.900523560209424\n"
     ]
    }
   ],
   "source": [
    "\n",
    "# Initialize the logistic regression model 初始化 Logistic 回归模型\n",
    "lr = LogisticRegression(featuresCol='features', labelCol='label')\n",
    "\n",
    "# train the model 训练模型\n",
    "lr_model = lr.fit(train_data)\n",
    "\n",
    "# Make predictions on the test set 在测试集上进行预测\n",
    "lr_predictions = lr_model.transform(test_data)\n",
    "\n",
    "# Calculate model accuracy\n",
    "evaluator = MulticlassClassificationEvaluator(labelCol='label', predictionCol='prediction', metricName='accuracy')\n",
    "lr_accuracy = evaluator.evaluate(lr_predictions)\n",
    "\n",
    "print(\"Logistic Regression's Accuracy:\", lr_accuracy)\n"
   ]
  },
  {
   "cell_type": "markdown",
   "id": "230c2270",
   "metadata": {},
   "source": [
    "7.2.2 C&R Tree"
   ]
  },
  {
   "cell_type": "code",
   "execution_count": 31,
   "id": "16f952ab",
   "metadata": {},
   "outputs": [],
   "source": [
    "from pyspark.ml.classification import DecisionTreeClassifier"
   ]
  },
  {
   "cell_type": "code",
   "execution_count": 54,
   "id": "ec0fa2b9",
   "metadata": {},
   "outputs": [
    {
     "name": "stdout",
     "output_type": "stream",
     "text": [
      "C&R Tree's Accuracy: 0.9365910413030832\n"
     ]
    }
   ],
   "source": [
    "#  Initialize the decision tree model 初始化决策树模型\n",
    "dt = DecisionTreeClassifier(featuresCol=\"features\", labelCol=\"label\")\n",
    "\n",
    "# Train the model on the training set 在训练集上训练模型\n",
    "dt_model = dt.fit(train_data)\n",
    "\n",
    "# Make predictions on the test set 在测试集上进行预测\n",
    "predictions = dt_model.transform(test_data)\n",
    "\n",
    "# Calculate model accuracy\n",
    "evaluator = MulticlassClassificationEvaluator(labelCol=\"label\", predictionCol=\"prediction\", metricName=\"accuracy\")\n",
    "cr_accuracy = evaluator.evaluate(predictions)\n",
    "print(\"C&R Tree's Accuracy:\", cr_accuracy)"
   ]
  },
  {
   "cell_type": "code",
   "execution_count": 40,
   "id": "077aaf41",
   "metadata": {},
   "outputs": [
    {
     "name": "stdout",
     "output_type": "stream",
     "text": [
      "DecisionTreeClassificationModel: uid=DecisionTreeClassifier_9a51a62e1577, depth=5, numNodes=21, numClasses=2, numFeatures=2\n",
      "  If (feature 0 <= 63.5)\n",
      "   If (feature 0 <= 61.5)\n",
      "    Predict: 1.0\n",
      "   Else (feature 0 > 61.5)\n",
      "    If (feature 1 <= 62.5)\n",
      "     Predict: 1.0\n",
      "    Else (feature 1 > 62.5)\n",
      "     If (feature 1 <= 65.5)\n",
      "      Predict: 0.0\n",
      "     Else (feature 1 > 65.5)\n",
      "      Predict: 1.0\n",
      "  Else (feature 0 > 63.5)\n",
      "   If (feature 0 <= 64.5)\n",
      "    If (feature 1 <= 53.5)\n",
      "     Predict: 0.0\n",
      "    Else (feature 1 > 53.5)\n",
      "     If (feature 1 <= 74.5)\n",
      "      Predict: 1.0\n",
      "     Else (feature 1 > 74.5)\n",
      "      Predict: 0.0\n",
      "   Else (feature 0 > 64.5)\n",
      "    If (feature 1 <= 54.5)\n",
      "     Predict: 0.0\n",
      "    Else (feature 1 > 54.5)\n",
      "     If (feature 1 <= 67.5)\n",
      "      If (feature 1 <= 65.5)\n",
      "       Predict: 0.0\n",
      "      Else (feature 1 > 65.5)\n",
      "       Predict: 1.0\n",
      "     Else (feature 1 > 67.5)\n",
      "      Predict: 0.0\n",
      "\n"
     ]
    }
   ],
   "source": [
    "# Get the debug string of the decision tree 获取决策树的调试字符串\n",
    "tree_debug_string = dt_model._java_obj.toDebugString()\n",
    "\n",
    "# Print the debugging string of the decision tree. You can view the decision tree structure and rules on the console.打印决策树的调试字符串，可以在控制台查看决策树结构和规则\n",
    "print(tree_debug_string)"
   ]
  },
  {
   "cell_type": "markdown",
   "id": "0a43a406",
   "metadata": {},
   "source": [
    "7.2.3 C5.0 Tree"
   ]
  },
  {
   "cell_type": "code",
   "execution_count": 55,
   "id": "1c7af0b6",
   "metadata": {},
   "outputs": [
    {
     "name": "stdout",
     "output_type": "stream",
     "text": [
      "C5.0's Accuracy: 0.9255381035485748\n"
     ]
    }
   ],
   "source": [
    "C5_dt = DecisionTreeClassifier(featuresCol=\"features\", labelCol=\"label\", impurity=\"entropy\")\n",
    "\n",
    "C5_dt_model = C5_dt.fit(train_data)\n",
    "\n",
    "predictions = C5_dt_model.transform(test_data)\n",
    "\n",
    "evaluator = MulticlassClassificationEvaluator(labelCol=\"label\", predictionCol=\"prediction\", metricName=\"accuracy\")\n",
    "c5_accuracy = evaluator.evaluate(predictions)\n",
    "print(\"C5.0's Accuracy:\", c5_accuracy)"
   ]
  },
  {
   "cell_type": "code",
   "execution_count": 53,
   "id": "2ada3968",
   "metadata": {},
   "outputs": [
    {
     "name": "stdout",
     "output_type": "stream",
     "text": [
      "C5 Tree Model Structure:\n",
      "DecisionTreeClassificationModel: uid=DecisionTreeClassifier_a5e6a2deee40, depth=5, numNodes=17, numClasses=2, numFeatures=2\n",
      "  If (feature 0 <= 61.5)\n",
      "   Predict: 1.0\n",
      "  Else (feature 0 > 61.5)\n",
      "   If (feature 0 <= 64.5)\n",
      "    If (feature 1 <= 53.5)\n",
      "     Predict: 0.0\n",
      "    Else (feature 1 > 53.5)\n",
      "     If (feature 1 <= 64.5)\n",
      "      Predict: 1.0\n",
      "     Else (feature 1 > 64.5)\n",
      "      If (feature 1 <= 65.5)\n",
      "       Predict: 0.0\n",
      "      Else (feature 1 > 65.5)\n",
      "       Predict: 1.0\n",
      "   Else (feature 0 > 64.5)\n",
      "    If (feature 1 <= 54.5)\n",
      "     Predict: 0.0\n",
      "    Else (feature 1 > 54.5)\n",
      "     If (feature 1 <= 67.5)\n",
      "      If (feature 1 <= 65.5)\n",
      "       Predict: 0.0\n",
      "      Else (feature 1 > 65.5)\n",
      "       Predict: 1.0\n",
      "     Else (feature 1 > 67.5)\n",
      "      Predict: 0.0\n",
      "\n"
     ]
    }
   ],
   "source": [
    "# Print the rules of the C5 decision tree model (visualize the decision tree structure) 打印决策树模型的规则（可视化决策树结构）\n",
    "print(\"C5 Tree Model Structure:\")\n",
    "print(C5_dt_model.toDebugString)"
   ]
  },
  {
   "cell_type": "markdown",
   "id": "4ad3b18d",
   "metadata": {},
   "source": [
    "08 - Interpretation"
   ]
  },
  {
   "cell_type": "markdown",
   "id": "038e049d",
   "metadata": {},
   "source": [
    "8.1.1"
   ]
  },
  {
   "cell_type": "code",
   "execution_count": 56,
   "id": "e0162314",
   "metadata": {},
   "outputs": [
    {
     "name": "stdout",
     "output_type": "stream",
     "text": [
      "Logistic Regression's Accuracy: 0.900523560209424\n",
      "C&R Tree's Accuracy: 0.9365910413030832\n",
      "C5.0's Accuracy: 0.9255381035485748\n"
     ]
    }
   ],
   "source": [
    "print(\"Logistic Regression's Accuracy:\", lr_accuracy)\n",
    "print(\"C&R Tree's Accuracy:\", cr_accuracy)\n",
    "print(\"C5.0's Accuracy:\", c5_accuracy)"
   ]
  },
  {
   "cell_type": "markdown",
   "id": "5b73e0a7",
   "metadata": {},
   "source": [
    "8.1.2 CR predictor importance"
   ]
  },
  {
   "cell_type": "code",
   "execution_count": 63,
   "id": "34ba5b2d",
   "metadata": {},
   "outputs": [],
   "source": [
    "from pyspark.sql.functions import desc\n",
    "from pyspark.sql.types import FloatType\n",
    "from pyspark.sql.types import StructType, StructField, StringType, DoubleType"
   ]
  },
  {
   "cell_type": "code",
   "execution_count": 64,
   "id": "be4bf2b4",
   "metadata": {},
   "outputs": [
    {
     "name": "stdout",
     "output_type": "stream",
     "text": [
      "+------------------+-------------------+\n",
      "|           Feature|         Importance|\n",
      "+------------------+-------------------+\n",
      "|Mean_Temperature_F| 0.8952021862034035|\n",
      "|     Mean_Humidity|0.10479781379659658|\n",
      "+------------------+-------------------+\n",
      "\n"
     ]
    },
    {
     "name": "stderr",
     "output_type": "stream",
     "text": [
      "\r",
      "[Stage 417:>                                                        (0 + 2) / 2]\r",
      "\r",
      "                                                                                \r"
     ]
    }
   ],
   "source": [
    "# Get feature importance 获取特征重要性\n",
    "importances = dt_model.featureImportances.toArray()\n",
    "\n",
    "# Get feature name 获取特征名称\n",
    "feature_names = ['Mean_Temperature_F', 'Mean_Humidity']\n",
    "\n",
    "# Create a Feature Importance DataFrame 创建特征重要性 DataFrame\n",
    "cr_data = [(feature_names[i], float(importances[i])) for i in range(len(feature_names))]\n",
    "schema = StructType([StructField(\"Feature\", StringType(), True), StructField(\"Importance\", DoubleType(), True)])\n",
    "feature_importance_df = spark.createDataFrame(cr_data, schema=schema)\n",
    "\n",
    "# Sort by descending order of importance 按重要性降序排列\n",
    "feature_importance_df = feature_importance_df.sort(\"Importance\", ascending=False)\n",
    "feature_importance_df.show()"
   ]
  },
  {
   "cell_type": "markdown",
   "id": "90030fc1",
   "metadata": {},
   "source": [
    "8.2 Visualizing the Data, Results, Models and Patterns"
   ]
  },
  {
   "cell_type": "markdown",
   "id": "880e0f96",
   "metadata": {},
   "source": [
    "8.2.1 Logistics Regression ROC curve"
   ]
  },
  {
   "cell_type": "code",
   "execution_count": 75,
   "id": "0ef85d19",
   "metadata": {},
   "outputs": [],
   "source": [
    "from pyspark.ml.evaluation import BinaryClassificationEvaluator\n",
    "from sklearn.metrics import roc_curve, auc"
   ]
  },
  {
   "cell_type": "code",
   "execution_count": 78,
   "id": "f437610a",
   "metadata": {},
   "outputs": [
    {
     "data": {
      "image/png": "[encoded data removed]",
      "text/plain": [
       "<Figure size 576x432 with 1 Axes>"
      ]
     },
     "metadata": {
      "needs_background": "light"
     },
     "output_type": "display_data"
    },
    {
     "name": "stdout",
     "output_type": "stream",
     "text": [
      "Train Area Under ROC Curve (AUC): 0.9120879063113931\n",
      "Test Area Under ROC Curve (AUC): 0.9012692417042362\n"
     ]
    }
   ],
   "source": [
    "evaluator_train = BinaryClassificationEvaluator(labelCol='label', rawPredictionCol='rawPrediction', metricName='areaUnderROC')\n",
    "evaluator_test = BinaryClassificationEvaluator(labelCol='label', rawPredictionCol='rawPrediction', metricName='areaUnderROC')\n",
    "\n",
    "train_predictions = lr_model.transform(train_data)\n",
    "test_predictions = lr_predictions\n",
    "\n",
    "train_predictions = train_predictions.select(['prediction', 'label']).rdd.map(lambda row: (float(row['prediction']), float(row['label'])))\n",
    "test_predictions = test_predictions.select(['prediction', 'label']).rdd.map(lambda row: (float(row['prediction']), float(row['label'])))\n",
    "\n",
    "train_fpr, train_tpr, _ = roc_curve(train_predictions.map(lambda x: x[1]).collect(), train_predictions.map(lambda x: x[0]).collect())\n",
    "train_roc_auc = auc(train_fpr, train_tpr)\n",
    "\n",
    "test_fpr, test_tpr, _ = roc_curve(test_predictions.map(lambda x: x[1]).collect(), test_predictions.map(lambda x: x[0]).collect())\n",
    "test_roc_auc = auc(test_fpr, test_tpr)\n",
    "\n",
    "plt.figure(figsize=(8, 6))\n",
    "plt.plot(train_fpr, train_tpr, color='darkgreen', lw=2, label='Train ROC curve (area = %0.2f)' % train_roc_auc)\n",
    "plt.plot(test_fpr, test_tpr, color='darkorange', lw=2, label='Test ROC curve (area = %0.2f)' % test_roc_auc)\n",
    "plt.plot([0, 1], [0, 1], color='navy', lw=2, linestyle='--')\n",
    "plt.xlim([0.0, 1.0])\n",
    "plt.ylim([0.0, 1.05])\n",
    "plt.xlabel('False Positive Rate')\n",
    "plt.ylabel('True Positive Rate')\n",
    "plt.title('Logistic Regression (ROC Curve)')\n",
    "plt.legend(loc=\"lower right\")\n",
    "plt.show()\n",
    "\n",
    "print(\"Train Area Under ROC Curve (AUC):\", train_roc_auc)\n",
    "print(\"Test Area Under ROC Curve (AUC):\", test_roc_auc)"
   ]
  },
  {
   "cell_type": "markdown",
   "id": "d1080338",
   "metadata": {},
   "source": [
    "8.2.2 C&R Tree ROC curve"
   ]
  },
  {
   "cell_type": "code",
   "execution_count": 81,
   "id": "b06d6a72",
   "metadata": {},
   "outputs": [
    {
     "data": {
      "image/png": "[encoded data removed]",
      "text/plain": [
       "<Figure size 576x432 with 1 Axes>"
      ]
     },
     "metadata": {
      "needs_background": "light"
     },
     "output_type": "display_data"
    },
    {
     "name": "stdout",
     "output_type": "stream",
     "text": [
      "Train Area Under ROC Curve (AUC): 0.9120879063113931\n",
      "Test Area Under ROC Curve (AUC): 0.9012692417042362\n"
     ]
    }
   ],
   "source": [
    "# 在训练集和测试集上分别评估模型\n",
    "cr_train_predictions = dt_model.transform(train_data)\n",
    "cr_test_predictions = dt_model.transform(test_data)\n",
    "                                      \n",
    "# 获取训练集和测试集的预测结果及概率\n",
    "cr_train_predictions_prob = cr_train_predictions.select(['probability', 'label']).rdd.map(lambda row: (float(row['probability'][1]), float(row['label'])))\n",
    "cr_test_predictions_prob = cr_test_predictions.select(['probability', 'label']).rdd.map(lambda row: (float(row['probability'][1]), float(row['label'])))\n",
    "\n",
    "# 计算训练集和测试集的 ROC 曲线\n",
    "cr_train_fpr, cr_train_tpr, _ = roc_curve(cr_train_predictions_prob.map(lambda x: x[1]).collect(), cr_train_predictions_prob.map(lambda x: x[0]).collect())\n",
    "cr_train_roc_auc = auc(train_fpr, train_tpr)\n",
    "\n",
    "cr_test_fpr, cr_test_tpr, _ = roc_curve(cr_test_predictions_prob.map(lambda x: x[1]).collect(), cr_test_predictions_prob.map(lambda x: x[0]).collect())\n",
    "cr_test_roc_auc = auc(test_fpr, test_tpr)\n",
    "\n",
    "# 绘制训练集和测试集的 ROC 曲线在同一图表中\n",
    "plt.figure(figsize=(8, 6))\n",
    "plt.plot(cr_train_fpr, cr_train_tpr, color='darkgreen', lw=2, label='Train ROC curve (area = %0.2f)' % cr_train_roc_auc)\n",
    "plt.plot(cr_test_fpr, cr_test_tpr, color='darkorange', lw=2, label='Test ROC curve (area = %0.2f)' % cr_test_roc_auc)\n",
    "plt.plot([0, 1], [0, 1], color='navy', lw=2, linestyle='--')\n",
    "plt.xlim([0.0, 1.0])\n",
    "plt.ylim([0.0, 1.05])\n",
    "plt.xlabel('False Positive Rate')\n",
    "plt.ylabel('True Positive Rate')\n",
    "plt.title('C&R Tree (ROC Curve)')\n",
    "plt.legend(loc=\"lower right\")\n",
    "plt.show()\n",
    "\n",
    "print(\"Train Area Under ROC Curve (AUC):\", train_roc_auc)\n",
    "print(\"Test Area Under ROC Curve (AUC):\", test_roc_auc)"
   ]
  },
  {
   "cell_type": "markdown",
   "id": "20cac55c",
   "metadata": {},
   "source": [
    "8.2.3 C5 Tree ROC curve"
   ]
  },
  {
   "cell_type": "code",
   "execution_count": 83,
   "id": "c82091e2",
   "metadata": {},
   "outputs": [
    {
     "data": {
      "image/png": "[encoded data removed]",
      "text/plain": [
       "<Figure size 576x432 with 1 Axes>"
      ]
     },
     "metadata": {
      "needs_background": "light"
     },
     "output_type": "display_data"
    },
    {
     "name": "stdout",
     "output_type": "stream",
     "text": [
      "Train Area Under ROC Curve (AUC): 0.9120879063113931\n",
      "Test Area Under ROC Curve (AUC): 0.9012692417042362\n"
     ]
    }
   ],
   "source": [
    "# 在训练集和测试集上分别评估 C5.0 模型\n",
    "c5_train_predictions = C5_dt_model.transform(train_data)\n",
    "c5_test_predictions = C5_dt_model.transform(test_data)\n",
    "\n",
    "# 获取训练集和测试集的预测结果及概率\n",
    "c5_train_predictions_prob = c5_train_predictions.select(['probability', 'label']).rdd.map(lambda row: (float(row['probability'][1]), float(row['label'])))\n",
    "c5_test_predictions_prob = c5_test_predictions.select(['probability', 'label']).rdd.map(lambda row: (float(row['probability'][1]), float(row['label'])))\n",
    "\n",
    "# 计算训练集和测试集的 ROC 曲线\n",
    "c5_train_fpr, c5_train_tpr, _ = roc_curve(c5_train_predictions_prob.map(lambda x: x[1]).collect(), c5_train_predictions_prob.map(lambda x: x[0]).collect())\n",
    "c5_train_roc_auc = auc(c5_train_fpr, c5_train_tpr)\n",
    "\n",
    "c5_test_fpr, c5_test_tpr, _ = roc_curve(c5_test_predictions_prob.map(lambda x: x[1]).collect(), c5_test_predictions_prob.map(lambda x: x[0]).collect())\n",
    "c5_test_roc_auc = auc(c5_test_fpr, c5_test_tpr)\n",
    "\n",
    "# 绘制训练集和测试集的 ROC 曲线在同一图表中\n",
    "plt.figure(figsize=(8, 6))\n",
    "plt.plot(train_fpr, train_tpr, color='darkgreen', lw=2, label='Train ROC curve (area = %0.2f)' % train_roc_auc)\n",
    "plt.plot(test_fpr, test_tpr, color='darkorange', lw=2, label='Test ROC curve (area = %0.2f)' % test_roc_auc)\n",
    "plt.plot([0, 1], [0, 1], color='navy', lw=2, linestyle='--')\n",
    "plt.xlim([0.0, 1.0])\n",
    "plt.ylim([0.0, 1.05])\n",
    "plt.xlabel('False Positive Rate')\n",
    "plt.ylabel('True Positive Rate')\n",
    "plt.title('C5.0 Decision Tree (ROC Curve)')\n",
    "plt.legend(loc=\"lower right\")\n",
    "plt.show()\n",
    "\n",
    "print(\"Train Area Under ROC Curve (AUC):\", train_roc_auc)\n",
    "print(\"Test Area Under ROC Curve (AUC):\", test_roc_auc)"
   ]
  },
  {
   "cell_type": "markdown",
   "id": "2aaed944",
   "metadata": {},
   "source": [
    "C5.0 predictor importance"
   ]
  },
  {
   "cell_type": "code",
   "execution_count": 84,
   "id": "8d537e7e",
   "metadata": {},
   "outputs": [
    {
     "name": "stdout",
     "output_type": "stream",
     "text": [
      "+------------------+-------------------+\n",
      "|           Feature|         Importance|\n",
      "+------------------+-------------------+\n",
      "|Mean_Temperature_F| 0.9133759225328784|\n",
      "|     Mean_Humidity|0.08662407746712172|\n",
      "+------------------+-------------------+\n",
      "\n"
     ]
    }
   ],
   "source": [
    "# Get feature importance 获取特征重要性\n",
    "c5_importances = C5_dt_model.featureImportances.toArray()\n",
    "\n",
    "# Get feature name 获取特征名称\n",
    "feature_names = ['Mean_Temperature_F', 'Mean_Humidity']\n",
    "\n",
    "# Create a Feature Importance DataFrame 创建特征重要性 DataFrame\n",
    "c5_data = [(feature_names[i], float(c5_importances[i])) for i in range(len(feature_names))]\n",
    "schema = StructType([StructField(\"Feature\", StringType(), True), StructField(\"Importance\", DoubleType(), True)])\n",
    "c5_feature_importance_df = spark.createDataFrame(c5_data, schema=schema)\n",
    "\n",
    "# Sort by descending order of importance 按重要性降序排列\n",
    "c5_feature_importance_df = c5_feature_importance_df.sort(\"Importance\", ascending=False)\n",
    "c5_feature_importance_df.show()"
   ]
  },
  {
   "cell_type": "markdown",
   "id": "881a5313",
   "metadata": {},
   "source": [
    "8.5 Iterations"
   ]
  }
 ],
 "metadata": {
  "kernelspec": {
   "display_name": "Python 3 (ipykernel)",
   "language": "python",
   "name": "python3"
  },
  "language_info": {
   "codemirror_mode": {
    "name": "ipython",
    "version": 3
   },
   "file_extension": ".py",
   "mimetype": "text/x-python",
   "name": "python",
   "nbconvert_exporter": "python",
   "pygments_lexer": "ipython3",
   "version": "3.10.12"
  }
 },
 "nbformat": 4,
 "nbformat_minor": 5
}
