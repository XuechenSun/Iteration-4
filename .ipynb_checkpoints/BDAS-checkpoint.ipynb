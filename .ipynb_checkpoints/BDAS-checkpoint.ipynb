{
 "cells": [
  {
   "cell_type": "code",
   "execution_count": 6,
   "id": "99368eb7",
   "metadata": {},
   "outputs": [],
   "source": [
    "import findspark\n",
    "findspark.init('/home/ubuntu/spark-3.2.1-bin-hadoop2.7')\n",
    "import pyspark\n",
    "from pyspark.sql import SparkSession\n",
    "spark = SparkSession.builder.appName('Iteration-4').getOrCreate()"
   ]
  },
  {
   "cell_type": "code",
   "execution_count": 7,
   "id": "dddb63d2",
   "metadata": {},
   "outputs": [],
   "source": [
    "file_path = \"trip_1.csv\"\n",
    "file1_path = \"weather_1.csv\""
   ]
  },
  {
   "cell_type": "code",
   "execution_count": 8,
   "id": "7689333c",
   "metadata": {},
   "outputs": [
    {
     "name": "stderr",
     "output_type": "stream",
     "text": [
      "                                                                                \r"
     ]
    }
   ],
   "source": [
    "df = spark.read.csv(file_path, header=True, inferSchema=True)\n",
    "df_1 = spark.read.csv(file1_path, header=True, inferSchema=True)"
   ]
  },
  {
   "cell_type": "code",
   "execution_count": 9,
   "id": "89620b3c",
   "metadata": {},
   "outputs": [
    {
     "name": "stdout",
     "output_type": "stream",
     "text": [
      "root\n",
      " |-- trip_id: integer (nullable = true)\n",
      " |-- startdate: string (nullable = true)\n",
      " |-- starttime: string (nullable = true)\n",
      " |-- stopdata: string (nullable = true)\n",
      " |-- stoptime: string (nullable = true)\n",
      " |-- bikeid: string (nullable = true)\n",
      " |-- tripduration: double (nullable = true)\n",
      " |-- from_station_name: string (nullable = true)\n",
      " |-- to_station_name: string (nullable = true)\n",
      " |-- from_station_id: string (nullable = true)\n",
      " |-- to_station_id: string (nullable = true)\n",
      " |-- usertype: string (nullable = true)\n",
      " |-- gender: string (nullable = true)\n",
      " |-- birthyear: integer (nullable = true)\n",
      "\n"
     ]
    }
   ],
   "source": [
    "df.printSchema()\n"
   ]
  },
  {
   "cell_type": "code",
   "execution_count": 10,
   "id": "9715a85d",
   "metadata": {},
   "outputs": [
    {
     "name": "stdout",
     "output_type": "stream",
     "text": [
      "root\n",
      " |-- startdate: string (nullable = true)\n",
      " |-- Max_Temperature_F: integer (nullable = true)\n",
      " |-- Mean_Temperature_F: integer (nullable = true)\n",
      " |-- Min_TemperatureF: integer (nullable = true)\n",
      " |-- Max_Dew_Point_F: integer (nullable = true)\n",
      " |-- MeanDew_Point_F: integer (nullable = true)\n",
      " |-- Min_Dewpoint_F: integer (nullable = true)\n",
      " |-- Max_Humidity: integer (nullable = true)\n",
      " |-- Mean_Humidity: integer (nullable = true)\n",
      " |-- Min_Humidity: integer (nullable = true)\n",
      " |-- Max_Sea_Level_Pressure_In: double (nullable = true)\n",
      " |-- Mean_Sea_Level_Pressure_In: double (nullable = true)\n",
      " |-- Min_Sea_Level_Pressure_In: double (nullable = true)\n",
      " |-- Max_Visibility_Miles: integer (nullable = true)\n",
      " |-- Mean_Visibility_Miles: integer (nullable = true)\n",
      " |-- Min_Visibility_Miles: integer (nullable = true)\n",
      " |-- Max_Wind_Speed_MPH: integer (nullable = true)\n",
      " |-- Mean_Wind_Speed_MPH: integer (nullable = true)\n",
      " |-- Max_Gust_Speed_MPH: integer (nullable = true)\n",
      " |-- Precipitation_In: double (nullable = true)\n",
      " |-- Events: string (nullable = true)\n",
      "\n"
     ]
    }
   ],
   "source": [
    "df_1.printSchema()"
   ]
  },
  {
   "cell_type": "code",
   "execution_count": 11,
   "id": "582c1243",
   "metadata": {},
   "outputs": [
    {
     "name": "stdout",
     "output_type": "stream",
     "text": [
      "+-------+---------+---------+--------+--------+--------+------------+--------------------+--------------------+---------------+-------------+--------------------+------+---------+\n",
      "|trip_id|startdate|starttime|stopdata|stoptime|  bikeid|tripduration|   from_station_name|     to_station_name|from_station_id|to_station_id|            usertype|gender|birthyear|\n",
      "+-------+---------+---------+--------+--------+--------+------------+--------------------+--------------------+---------------+-------------+--------------------+------+---------+\n",
      "|      1| 1/1/2016|     0:36|1/1/2016|    0:48|SEA00480|     734.096|PATH / 9th Ave & ...|Summit Ave & E De...|         SLU-07|        CH-01|Short-Term Pass H...|     M|     null|\n",
      "|      2| 1/1/2016|     0:43|1/1/2016|    0:54|SEA00392|     644.455|Bellevue Ave & E ...|Dexter Ave N & Al...|          CH-12|       SLU-02|              Member|  Male|     1982|\n",
      "|      3| 1/1/2016|     0:47|1/1/2016|    1:05|SEA00276|    1078.579|Key Arena / 1st A...| 1st Ave & Marion St|         SLU-19|       CBD-05|Short-Term Pass H...|  Male|     null|\n",
      "|      4| 1/1/2016|     0:47|1/1/2016|    1:05|SEA00335|     770.696|Key Arena / 1st A...| 1st Ave & Marion St|         SLU-19|       CBD-05|Short-Term Pass H...|  Male|     null|\n",
      "|      5| 1/1/2016|     1:10|1/1/2016|    1:51|SEA00071|     797.304|   2nd Ave & Pine St| 1st Ave & Marion St|         CBD-13|       CBD-05|Short-Term Pass H...|  Male|     null|\n",
      "|      6| 1/1/2016|     1:11|1/1/2016|    1:20|SEA00382|     856.238|REI / Yale Ave N ...|E Blaine St & Fai...|         SLU-01|        EL-03|              Member|  Male|     1990|\n",
      "|      7| 1/1/2016|     1:11|1/1/2016|    1:20|SEA00338|     514.811|REI / Yale Ave N ...|E Blaine St & Fai...|         SLU-01|        EL-03|              Member|Female|     1983|\n",
      "|      8| 1/1/2016|     1:17|1/1/2016|    1:25|SEA00205|     741.016|   Pine St & 9th Ave|Republican St & W...|         SLU-16|       SLU-04|              Member|  Male|     1983|\n",
      "|      9| 1/1/2016|     1:26|1/1/2016|    1:34|SEA00480|     736.474|Summit Ave & E De...|12th Ave & E Merc...|          CH-01|        CH-15|Short-Term Pass H...|  Male|     null|\n",
      "|     10| 1/1/2016|     1:26|1/1/2016|    1:34|SEA00149|     499.128|Summit Ave & E De...|12th Ave & E Merc...|          CH-01|        CH-15|Short-Term Pass H...|  Male|     null|\n",
      "+-------+---------+---------+--------+--------+--------+------------+--------------------+--------------------+---------------+-------------+--------------------+------+---------+\n",
      "only showing top 10 rows\n",
      "\n"
     ]
    }
   ],
   "source": [
    "df.show(10)"
   ]
  },
  {
   "cell_type": "code",
   "execution_count": 12,
   "id": "1ab62927",
   "metadata": {},
   "outputs": [
    {
     "name": "stdout",
     "output_type": "stream",
     "text": [
      "+---------+-----------------+------------------+----------------+---------------+---------------+--------------+------------+-------------+------------+-------------------------+--------------------------+-------------------------+--------------------+---------------------+--------------------+------------------+-------------------+------------------+----------------+---------+\n",
      "|startdate|Max_Temperature_F|Mean_Temperature_F|Min_TemperatureF|Max_Dew_Point_F|MeanDew_Point_F|Min_Dewpoint_F|Max_Humidity|Mean_Humidity|Min_Humidity|Max_Sea_Level_Pressure_In|Mean_Sea_Level_Pressure_In|Min_Sea_Level_Pressure_In|Max_Visibility_Miles|Mean_Visibility_Miles|Min_Visibility_Miles|Max_Wind_Speed_MPH|Mean_Wind_Speed_MPH|Max_Gust_Speed_MPH|Precipitation_In|   Events|\n",
      "+---------+-----------------+------------------+----------------+---------------+---------------+--------------+------------+-------------+------------+-------------------------+--------------------------+-------------------------+--------------------+---------------------+--------------------+------------------+-------------------+------------------+----------------+---------+\n",
      "| 1/1/2016|               44|                34|              25|             30|             25|            21|          92|           76|          43|                    30.49|                     30.38|                    30.27|                  10|                   10|                   6|                 5|                  1|              null|             0.0|     null|\n",
      "| 1/2/2016|               44|                34|              23|             30|             23|            13|          96|           73|          33|                    30.26|                     30.19|                    30.11|                  10|                    9|                   6|                 8|                  2|              null|             0.0|     null|\n",
      "| 1/3/2016|               39|                34|              28|             34|             26|            14|          87|           67|          35|                    30.09|                     29.96|                    29.86|                  10|                    9|                   3|                14|                  4|              null|            0.01|Rain-Snow|\n",
      "| 1/4/2016|               39|                38|              37|             34|             33|            32|          87|           83|          76|                    29.84|                     29.77|                    29.67|                  10|                    6|                   2|                 8|                  1|              null|            0.07|     Rain|\n",
      "| 1/5/2016|               44|                40|              37|             39|             33|            32|         100|           73|          63|                     29.6|                     29.58|                    29.56|                  10|                    8|                   5|                 5|                  1|              null|            0.11|     Rain|\n",
      "| 1/6/2016|               51|                43|              35|             42|             39|            35|         100|           90|          66|                    29.76|                     29.65|                    29.59|                  10|                    9|                   2|                 7|                  1|              null|             0.0|     null|\n",
      "| 1/7/2016|               45|                38|              32|             41|             37|            32|         100|           93|          81|                    30.03|                     29.91|                    29.77|                  10|                    6|                   0|                 6|                  2|              null|             0.0|      Fog|\n",
      "| 1/8/2016|               48|                39|              30|             42|             38|            30|         100|           93|          74|                    30.08|                     30.04|                    30.01|                  10|                    6|                   0|                 7|                  1|              null|             0.0|      Fog|\n",
      "| 1/9/2016|               48|                39|              30|             41|             36|            30|         100|           92|          66|                    30.22|                      30.1|                    30.01|                  10|                    5|                   0|                 6|                  1|              null|             0.0|      Fog|\n",
      "|1/10/2016|               51|                43|              32|             39|             32|            25|          93|           69|          50|                    30.27|                     30.21|                    30.15|                  10|                   10|                   9|                 8|                  2|              null|             0.0|     null|\n",
      "+---------+-----------------+------------------+----------------+---------------+---------------+--------------+------------+-------------+------------+-------------------------+--------------------------+-------------------------+--------------------+---------------------+--------------------+------------------+-------------------+------------------+----------------+---------+\n",
      "only showing top 10 rows\n",
      "\n"
     ]
    }
   ],
   "source": [
    "df_1.show(10)"
   ]
  },
  {
   "cell_type": "code",
   "execution_count": 13,
   "id": "968eca70",
   "metadata": {},
   "outputs": [
    {
     "name": "stdout",
     "output_type": "stream",
     "text": [
      "+-------+---------+---------+--------+--------+--------+------------+--------------------+--------------------+---------------+-------------+--------------------+------+---------+\n",
      "|trip_id|startdate|starttime|stopdata|stoptime|  bikeid|tripduration|   from_station_name|     to_station_name|from_station_id|to_station_id|            usertype|gender|birthyear|\n",
      "+-------+---------+---------+--------+--------+--------+------------+--------------------+--------------------+---------------+-------------+--------------------+------+---------+\n",
      "|      1| 1/1/2016|     0:36|1/1/2016|    0:48|SEA00480|     734.096|PATH / 9th Ave & ...|Summit Ave & E De...|         SLU-07|        CH-01|Short-Term Pass H...|     M|     null|\n",
      "|      2| 1/1/2016|     0:43|1/1/2016|    0:54|SEA00392|     644.455|Bellevue Ave & E ...|Dexter Ave N & Al...|          CH-12|       SLU-02|              Member|  Male|     1982|\n",
      "|      3| 1/1/2016|     0:47|1/1/2016|    1:05|SEA00276|    1078.579|Key Arena / 1st A...| 1st Ave & Marion St|         SLU-19|       CBD-05|Short-Term Pass H...|  Male|     null|\n",
      "|      4| 1/1/2016|     0:47|1/1/2016|    1:05|SEA00335|     770.696|Key Arena / 1st A...| 1st Ave & Marion St|         SLU-19|       CBD-05|Short-Term Pass H...|  Male|     null|\n",
      "|      5| 1/1/2016|     1:10|1/1/2016|    1:51|SEA00071|     797.304|   2nd Ave & Pine St| 1st Ave & Marion St|         CBD-13|       CBD-05|Short-Term Pass H...|  Male|     null|\n",
      "|      6| 1/1/2016|     1:11|1/1/2016|    1:20|SEA00382|     856.238|REI / Yale Ave N ...|E Blaine St & Fai...|         SLU-01|        EL-03|              Member|  Male|     1990|\n",
      "|      7| 1/1/2016|     1:11|1/1/2016|    1:20|SEA00338|     514.811|REI / Yale Ave N ...|E Blaine St & Fai...|         SLU-01|        EL-03|              Member|Female|     1983|\n",
      "|      8| 1/1/2016|     1:17|1/1/2016|    1:25|SEA00205|     741.016|   Pine St & 9th Ave|Republican St & W...|         SLU-16|       SLU-04|              Member|  Male|     1983|\n",
      "|      9| 1/1/2016|     1:26|1/1/2016|    1:34|SEA00480|     736.474|Summit Ave & E De...|12th Ave & E Merc...|          CH-01|        CH-15|Short-Term Pass H...|  Male|     null|\n",
      "|     10| 1/1/2016|     1:26|1/1/2016|    1:34|SEA00149|     499.128|Summit Ave & E De...|12th Ave & E Merc...|          CH-01|        CH-15|Short-Term Pass H...|  Male|     null|\n",
      "|     11| 1/1/2016|     1:29|1/1/2016|    1:50|SEA00393|     480.574|Cal Anderson Park...|King Street Stati...|          CH-08|        PS-05|Short-Term Pass H...|  Male|     null|\n",
      "|     12| 1/1/2016|     1:29|1/1/2016|    1:50|SEA00101|     436.445|Cal Anderson Park...|King Street Stati...|          CH-08|        PS-05|Short-Term Pass H...|  Male|     null|\n",
      "|     13| 1/1/2016|     1:31|1/1/2016|    1:50|SEA00292|     272.029|Cal Anderson Park...|King Street Stati...|          CH-08|        PS-05|Short-Term Pass H...|     M|     null|\n",
      "|     14| 1/1/2016|     1:32|1/1/2016|    1:45|SEA00016|     481.684|Cal Anderson Park...|Westlake Ave & 6t...|          CH-08|       SLU-15|Short-Term Pass H...|  Male|     null|\n",
      "|     15| 1/1/2016|     1:33|1/1/2016|    1:50|SEA00422|    1035.892|Cal Anderson Park...|King Street Stati...|          CH-08|        PS-05|Short-Term Pass H...|  Male|     null|\n",
      "|     16| 1/1/2016|     1:33|1/1/2016|    1:37|SEA00321|     649.525|E Harrison St & B...|Cal Anderson Park...|          CH-02|        CH-08|              Member|     M|     1993|\n",
      "|     17| 1/1/2016|     1:46|1/1/2016|    1:51|SEA00499|     869.444|2nd Ave & Blancha...| 1st Ave & Marion St|          BT-05|       CBD-05|Short-Term Pass H...|  Male|     null|\n",
      "|     18| 1/1/2016|     2:00|1/1/2016|    2:11|SEA00033|     691.471|PATH / 9th Ave & ...|   Pine St & 9th Ave|         SLU-07|       SLU-16|              Member|  Male|     1983|\n",
      "|     19| 1/1/2016|     2:21|1/1/2016|    2:33|SEA00125|     738.556|  3rd Ave & Broad St|   Pine St & 9th Ave|          BT-01|       SLU-16|              Member|  Male|     1988|\n",
      "|     20| 1/1/2016|     2:37|1/1/2016|    2:49|SEA00157|    1053.753|   Pine St & 9th Ave|E Pine St & 16th Ave|         SLU-16|        CH-07|              Member|  Male|     1988|\n",
      "+-------+---------+---------+--------+--------+--------+------------+--------------------+--------------------+---------------+-------------+--------------------+------+---------+\n",
      "only showing top 20 rows\n",
      "\n"
     ]
    }
   ],
   "source": [
    "df.show()"
   ]
  },
  {
   "cell_type": "code",
   "execution_count": 14,
   "id": "ed349a90",
   "metadata": {},
   "outputs": [
    {
     "data": {
      "text/plain": [
       "['trip_id',\n",
       " 'startdate',\n",
       " 'starttime',\n",
       " 'stopdata',\n",
       " 'stoptime',\n",
       " 'bikeid',\n",
       " 'tripduration',\n",
       " 'from_station_name',\n",
       " 'to_station_name',\n",
       " 'from_station_id',\n",
       " 'to_station_id',\n",
       " 'usertype',\n",
       " 'gender',\n",
       " 'birthyear']"
      ]
     },
     "execution_count": 14,
     "metadata": {},
     "output_type": "execute_result"
    }
   ],
   "source": [
    "df.columns"
   ]
  },
  {
   "cell_type": "code",
   "execution_count": 15,
   "id": "a43389d5",
   "metadata": {},
   "outputs": [
    {
     "name": "stderr",
     "output_type": "stream",
     "text": [
      "[Stage 7:=============================>                             (1 + 1) / 2]\r"
     ]
    },
    {
     "name": "stdout",
     "output_type": "stream",
     "text": [
      "+-------+------------------+---------+---------+--------+--------+--------+------------------+--------------------+--------------------+---------------+-------------+--------------------+------+------------------+\n",
      "|summary|           trip_id|startdate|starttime|stopdata|stoptime|  bikeid|      tripduration|   from_station_name|     to_station_name|from_station_id|to_station_id|            usertype|gender|         birthyear|\n",
      "+-------+------------------+---------+---------+--------+--------+--------+------------------+--------------------+--------------------+---------------+-------------+--------------------+------+------------------+\n",
      "|  count|             48984|    48984|    48984|   48984|   48984|   48984|             48984|               48984|               48984|          48984|        48984|               48984| 48984|             31270|\n",
      "|   mean|           24492.5|     null|     null|    null|    null|    null|1264.9614109709287|                null|                null|           null|         null|                null|  null|1979.8150303805564|\n",
      "| stddev|14140.607129822962|     null|     null|    null|    null|    null|1881.4033008852307|                null|                null|           null|         null|                null|  null| 10.29965212907769|\n",
      "|    min|                 1| 1/1/2016|     0:00|1/1/2016|    0:00|SEA00001|             34.05|12th Ave & E Denn...|12th Ave & E Denn...|          BT-01|        BT-01|              Member|     F|              1936|\n",
      "|    max|             48984| 6/9/2016|     9:59|6/9/2016|    9:59|SEA00500|         28779.864|Westlake Ave & 6t...|Westlake Ave & 6t...|          WF-04|        WF-04|Short-Term Pass H...| Other|              1997|\n",
      "+-------+------------------+---------+---------+--------+--------+--------+------------------+--------------------+--------------------+---------------+-------------+--------------------+------+------------------+\n",
      "\n"
     ]
    },
    {
     "name": "stderr",
     "output_type": "stream",
     "text": [
      "\r",
      "                                                                                \r"
     ]
    }
   ],
   "source": [
    "df.describe().show()"
   ]
  },
  {
   "cell_type": "code",
   "execution_count": 17,
   "id": "3789bfee",
   "metadata": {},
   "outputs": [],
   "source": [
    "import matplotlib.pyplot as plt"
   ]
  },
  {
   "cell_type": "code",
   "execution_count": 15,
   "id": "fafd656b",
   "metadata": {},
   "outputs": [
    {
     "data": {
      "image/png": "[encoded data removed]",
      "text/plain": [
       "<Figure size 576x432 with 1 Axes>"
      ]
     },
     "metadata": {
      "needs_background": "light"
     },
     "output_type": "display_data"
    }
   ],
   "source": [
    "gender_counts = df.groupBy('gender').count().orderBy('gender')\n",
    "\n",
    "\n",
    "gender_counts_pandas = gender_counts.toPandas()\n",
    "\n",
    "plt.figure(figsize=(8, 6))\n",
    "plt.bar(gender_counts_pandas['gender'], gender_counts_pandas['count'], color='skyblue')\n",
    "plt.title('Gender Distribution')\n",
    "plt.xlabel('Gender')\n",
    "plt.ylabel('Count')\n",
    "plt.show()"
   ]
  },
  {
   "cell_type": "code",
   "execution_count": 17,
   "id": "423b5af0",
   "metadata": {},
   "outputs": [
    {
     "data": {
      "image/png": "[encoded data removed]",
      "text/plain": [
       "<Figure size 720x432 with 1 Axes>"
      ]
     },
     "metadata": {
      "needs_background": "light"
     },
     "output_type": "display_data"
    }
   ],
   "source": [
    "pandas_df = df.select('usertype', 'tripduration').toPandas()\n",
    "\n",
    "\n",
    "plt.figure(figsize=(10, 6))\n",
    "plt.scatter(pandas_df['usertype'], pandas_df['tripduration'], alpha=0.5)\n",
    "plt.xlabel('Usertype')\n",
    "plt.ylabel('Tripduration')\n",
    "plt.show()"
   ]
  },
  {
   "cell_type": "code",
   "execution_count": 18,
   "id": "d49e4ddc",
   "metadata": {},
   "outputs": [
    {
     "data": {
      "image/png": "[encoded data removed]",
      "text/plain": [
       "<Figure size 576x432 with 1 Axes>"
      ]
     },
     "metadata": {
      "needs_background": "light"
     },
     "output_type": "display_data"
    }
   ],
   "source": [
    "plt.figure(figsize=(8, 6))\n",
    "pandas_df.boxplot(column='tripduration')\n",
    "\n",
    "plt.ylabel('Tripduration')\n",
    "plt.show()"
   ]
  },
  {
   "cell_type": "code",
   "execution_count": 27,
   "id": "867815f7",
   "metadata": {
    "scrolled": true
   },
   "outputs": [
    {
     "data": {
      "image/png": "[encoded data removed]",
      "text/plain": [
       "<Figure size 576x432 with 1 Axes>"
      ]
     },
     "metadata": {
      "needs_background": "light"
     },
     "output_type": "display_data"
    }
   ],
   "source": [
    "processed_df = df.select('tripduration')\n",
    "\n",
    "pandas_df = processed_df.toPandas()\n",
    "\n",
    "plt.figure(figsize=(8, 6))\n",
    "plt.hist(pandas_df['tripduration'], bins=30, edgecolor='black')\n",
    "\n",
    "plt.xlabel('Tripduration')\n",
    "plt.ylabel('Frequency')\n",
    "plt.show()"
   ]
  },
  {
   "cell_type": "code",
   "execution_count": 22,
   "id": "23fda7cd",
   "metadata": {},
   "outputs": [
    {
     "name": "stdout",
     "output_type": "stream",
     "text": [
      "+------+\n",
      "|gender|\n",
      "+------+\n",
      "|     M|\n",
      "|  Male|\n",
      "|  Male|\n",
      "|  Male|\n",
      "|  Male|\n",
      "|  Male|\n",
      "|Female|\n",
      "|  Male|\n",
      "|  Male|\n",
      "|  Male|\n",
      "|  Male|\n",
      "|  Male|\n",
      "|     M|\n",
      "|  Male|\n",
      "|  Male|\n",
      "|     M|\n",
      "|  Male|\n",
      "|  Male|\n",
      "|  Male|\n",
      "|  Male|\n",
      "+------+\n",
      "only showing top 20 rows\n",
      "\n"
     ]
    }
   ],
   "source": [
    "df.select('gender').show()"
   ]
  },
  {
   "cell_type": "code",
   "execution_count": 22,
   "id": "8ebaa1d4",
   "metadata": {},
   "outputs": [
    {
     "data": {
      "image/png": "[encoded data removed]",
      "text/plain": [
       "<Figure size 720x432 with 1 Axes>"
      ]
     },
     "metadata": {
      "needs_background": "light"
     },
     "output_type": "display_data"
    }
   ],
   "source": [
    "birthyear_column = df.select('birthyear').toPandas()\n",
    "\n",
    "plt.figure(figsize=(10, 6))\n",
    "plt.hist(birthyear_column['birthyear'], bins=30, edgecolor='black')\n",
    "plt.title('Histogram of Birthyears')\n",
    "plt.xlabel('Birthyear')\n",
    "plt.ylabel('Frequency')\n",
    "plt.show()"
   ]
  },
  {
   "cell_type": "code",
   "execution_count": 28,
   "id": "ca64a87e",
   "metadata": {},
   "outputs": [],
   "source": [
    "from pyspark.sql.functions import col, stddev, mean\n",
    "from pyspark.sql.window import Window"
   ]
  },
  {
   "cell_type": "code",
   "execution_count": 32,
   "id": "6d660197",
   "metadata": {},
   "outputs": [
    {
     "data": {
      "image/png": "[encoded data removed]",
      "text/plain": [
       "<Figure size 576x432 with 1 Axes>"
      ]
     },
     "metadata": {
      "needs_background": "light"
     },
     "output_type": "display_data"
    },
    {
     "name": "stdout",
     "output_type": "stream",
     "text": [
      "root\n",
      " |-- trip_id: integer (nullable = true)\n",
      " |-- startdate: string (nullable = true)\n",
      " |-- starttime: string (nullable = true)\n",
      " |-- stopdata: string (nullable = true)\n",
      " |-- stoptime: string (nullable = true)\n",
      " |-- bikeid: string (nullable = true)\n",
      " |-- tripduration: double (nullable = true)\n",
      " |-- from_station_name: string (nullable = true)\n",
      " |-- to_station_name: string (nullable = true)\n",
      " |-- from_station_id: string (nullable = true)\n",
      " |-- to_station_id: string (nullable = true)\n",
      " |-- usertype: string (nullable = true)\n",
      " |-- gender: string (nullable = true)\n",
      " |-- birthyear: integer (nullable = true)\n",
      "\n"
     ]
    }
   ],
   "source": [
    "tripduration_mean = df.select(mean('tripduration')).first()[0]\n",
    "tripduration_stddev = df.select(stddev('tripduration')).first()[0]\n",
    "\n",
    "\n",
    "threshold = 3\n",
    "df_filtered = df.withColumn('tripduration_Zscore', (col('tripduration') - tripduration_mean) / tripduration_stddev) \\\n",
    "                .filter(col('tripduration_Zscore') <= threshold) \\\n",
    "                .drop('tripduration_Zscore')\n",
    "\n",
    "\n",
    "tripduration_data = df_filtered.select('tripduration').toPandas()\n",
    "plt.figure(figsize=(8, 6))\n",
    "plt.boxplot(tripduration_data['tripduration'])\n",
    "plt.title('Box Plot of Tripduration')\n",
    "plt.ylabel('Tripduration')\n",
    "plt.show()\n",
    "\n",
    "\n",
    "df_filtered.printSchema()"
   ]
  },
  {
   "cell_type": "code",
   "execution_count": 51,
   "id": "73ccd1a8",
   "metadata": {
    "scrolled": true
   },
   "outputs": [
    {
     "name": "stdout",
     "output_type": "stream",
     "text": [
      "+-------+-----------------+\n",
      "|summary|     tripduration|\n",
      "+-------+-----------------+\n",
      "|  count|            46994|\n",
      "|   mean|978.1282706090145|\n",
      "| stddev| 746.543008735004|\n",
      "|    min|            34.05|\n",
      "|    max|         4104.885|\n",
      "+-------+-----------------+\n",
      "\n"
     ]
    }
   ],
   "source": [
    "tripduration_summary = df_filtered.select('tripduration').describe()\n",
    "\n",
    "\n",
    "tripduration_summary.show()"
   ]
  },
  {
   "cell_type": "code",
   "execution_count": 33,
   "id": "5c6af6a0",
   "metadata": {},
   "outputs": [
    {
     "data": {
      "image/png": "[encoded data removed]",
      "text/plain": [
       "<Figure size 720x432 with 1 Axes>"
      ]
     },
     "metadata": {
      "needs_background": "light"
     },
     "output_type": "display_data"
    }
   ],
   "source": [
    "histogram_data = df_filtered.select('tripduration').toPandas()\n",
    "\n",
    "plt.figure(figsize=(10, 6))\n",
    "plt.hist(histogram_data['tripduration'], bins=30, edgecolor='black')\n",
    "plt.title('Histogram of Tripduration')\n",
    "plt.xlabel('Tripduration')\n",
    "plt.ylabel('Frequency')\n",
    "plt.show()"
   ]
  },
  {
   "cell_type": "code",
   "execution_count": 44,
   "id": "3e4f4e7f",
   "metadata": {},
   "outputs": [
    {
     "name": "stdout",
     "output_type": "stream",
     "text": [
      "+------+-----+\n",
      "|gender|count|\n",
      "+------+-----+\n",
      "|     F|  308|\n",
      "|Female| 8586|\n",
      "|     M| 1893|\n",
      "| Other|  878|\n",
      "|  Male|35329|\n",
      "+------+-----+\n",
      "\n"
     ]
    }
   ],
   "source": [
    "gender_counts = df_filtered.groupBy('gender').count()\n",
    "\n",
    "gender_counts.show()"
   ]
  },
  {
   "cell_type": "code",
   "execution_count": 47,
   "id": "004f77cc",
   "metadata": {},
   "outputs": [
    {
     "data": {
      "image/png": "[encoded data removed]",
      "text/plain": [
       "<Figure size 576x432 with 1 Axes>"
      ]
     },
     "metadata": {
      "needs_background": "light"
     },
     "output_type": "display_data"
    }
   ],
   "source": [
    "gender_counts_pd = gender_counts.toPandas()\n",
    "\n",
    "plt.figure(figsize=(8, 6))\n",
    "plt.bar(gender_counts_pd['gender'], gender_counts_pd['count'])\n",
    "plt.title('Gender Counts Before Cleaning')\n",
    "plt.xlabel('Gender')\n",
    "plt.ylabel('Count')\n",
    "plt.show()"
   ]
  },
  {
   "cell_type": "code",
   "execution_count": 48,
   "id": "c445329c",
   "metadata": {},
   "outputs": [],
   "source": [
    "from pyspark.sql.functions import when, count"
   ]
  },
  {
   "cell_type": "code",
   "execution_count": 49,
   "id": "44bc3a13",
   "metadata": {},
   "outputs": [
    {
     "name": "stdout",
     "output_type": "stream",
     "text": [
      "+------+-----+\n",
      "|gender|count|\n",
      "+------+-----+\n",
      "|Female| 8894|\n",
      "| Other|  878|\n",
      "|  Male|37222|\n",
      "+------+-----+\n",
      "\n"
     ]
    }
   ],
   "source": [
    "df = df_filtered.withColumn('gender', \n",
    "                             when(col('gender') == 'F', 'Female')\n",
    "                            .when(col('gender') == 'Female', 'Female')\n",
    "                            .when(col('gender') == 'M', 'Male')\n",
    "                            .when(col('gender') == 'Male', 'Male')\n",
    "                            .otherwise(col('gender')))\n",
    "\n",
    "\n",
    "gender_counts = df.groupBy('gender').agg(count('*').alias('count'))\n",
    "\n",
    "gender_counts.show()\n",
    "\n",
    "\n",
    "gender_counts_pd = gender_counts.toPandas()"
   ]
  },
  {
   "cell_type": "code",
   "execution_count": 50,
   "id": "a3db2952",
   "metadata": {},
   "outputs": [
    {
     "data": {
      "image/png": "[encoded data removed]",
      "text/plain": [
       "<Figure size 576x432 with 1 Axes>"
      ]
     },
     "metadata": {
      "needs_background": "light"
     },
     "output_type": "display_data"
    }
   ],
   "source": [
    "plt.figure(figsize=(8, 6))\n",
    "plt.bar(gender_counts_pd['gender'], gender_counts_pd['count'])\n",
    "plt.title('Gender Counts')\n",
    "plt.xlabel('Gender')\n",
    "plt.ylabel('Count')\n",
    "plt.show()"
   ]
  },
  {
   "cell_type": "code",
   "execution_count": 53,
   "id": "9eb01cbd",
   "metadata": {},
   "outputs": [],
   "source": [
    "mean_birthyear = df.select(mean('birthyear')).first()[0]\n",
    "mean_birthyear = round(mean_birthyear)\n",
    "\n",
    "df = df.withColumn('birthyear', when(col('birthyear').isNull(), mean_birthyear).otherwise(col('birthyear')))"
   ]
  },
  {
   "cell_type": "code",
   "execution_count": 54,
   "id": "4cf70b2f",
   "metadata": {},
   "outputs": [
    {
     "data": {
      "image/png": "[encoded data removed]",
      "text/plain": [
       "<Figure size 576x432 with 1 Axes>"
      ]
     },
     "metadata": {
      "needs_background": "light"
     },
     "output_type": "display_data"
    }
   ],
   "source": [
    "birthyear_data = df.select('birthyear').toPandas()\n",
    "\n",
    "plt.figure(figsize=(8, 6))\n",
    "plt.hist(birthyear_data['birthyear'], bins=30, edgecolor='black')\n",
    "plt.title('Histogram of Birth Year')\n",
    "plt.xlabel('Birth Year')\n",
    "plt.ylabel('Frequency')\n",
    "plt.show()"
   ]
  },
  {
   "cell_type": "code",
   "execution_count": 55,
   "id": "48ccf883",
   "metadata": {},
   "outputs": [
    {
     "name": "stderr",
     "output_type": "stream",
     "text": [
      "[Stage 91:=============================>                            (1 + 1) / 2]\r"
     ]
    },
    {
     "name": "stdout",
     "output_type": "stream",
     "text": [
      "+-------+------------------+---------+---------+--------+--------+--------+-----------------+--------------------+--------------------+---------------+-------------+--------------------+------+------------------+\n",
      "|summary|           trip_id|startdate|starttime|stopdata|stoptime|  bikeid|     tripduration|   from_station_name|     to_station_name|from_station_id|to_station_id|            usertype|gender|         birthyear|\n",
      "+-------+------------------+---------+---------+--------+--------+--------+-----------------+--------------------+--------------------+---------------+-------------+--------------------+------+------------------+\n",
      "|  count|             46994|    46994|    46994|   46994|   46994|   46994|            46994|               46994|               46994|          46994|        46994|               46994| 46994|             46994|\n",
      "|   mean| 23986.80955015534|     null|     null|    null|    null|    null|978.1282706090145|                null|                null|           null|         null|                null|  null|1979.8784951270375|\n",
      "| stddev|14117.515547241177|     null|     null|    null|    null|    null| 746.543008735004|                null|                null|           null|         null|                null|  null|  8.24680760416455|\n",
      "|    min|                 1| 1/1/2016|     0:00|1/1/2016|    0:00|SEA00001|            34.05|12th Ave & E Denn...|12th Ave & E Denn...|          BT-01|        BT-01|              Member|Female|              1936|\n",
      "|    max|             48984| 6/9/2016|     9:59|6/9/2016|    9:59|SEA00500|         4104.885|Westlake Ave & 6t...|Westlake Ave & 6t...|          WF-04|        WF-04|Short-Term Pass H...| Other|              1997|\n",
      "+-------+------------------+---------+---------+--------+--------+--------+-----------------+--------------------+--------------------+---------------+-------------+--------------------+------+------------------+\n",
      "\n"
     ]
    },
    {
     "name": "stderr",
     "output_type": "stream",
     "text": [
      "\r",
      "                                                                                \r"
     ]
    }
   ],
   "source": [
    "df.describe().show()"
   ]
  },
  {
   "cell_type": "code",
   "execution_count": 57,
   "id": "59db677a",
   "metadata": {},
   "outputs": [],
   "source": [
    "df = df.withColumn(\n",
    "    \"tripduration_Group\",\n",
    "    when((col(\"tripduration\") >= 34) & (col(\"tripduration\") < 2520), \"Short\")\n",
    "    .when((col(\"tripduration\") >= 2520) & (col(\"tripduration\") <= 4105), \"Long\")\n",
    ")\n"
   ]
  },
  {
   "cell_type": "code",
   "execution_count": 59,
   "id": "a7fb3a03",
   "metadata": {},
   "outputs": [
    {
     "data": {
      "image/png": "[encoded data removed]",
      "text/plain": [
       "<Figure size 432x288 with 1 Axes>"
      ]
     },
     "metadata": {
      "needs_background": "light"
     },
     "output_type": "display_data"
    }
   ],
   "source": [
    "tripduration_grouped_df = df.groupBy(\"tripduration_Group\").count()\n",
    "tripduration_group_counts_pd = tripduration_grouped_df.toPandas()\n",
    "tripduration_group_counts_pd.plot.bar(x='tripduration_Group', y='count', rot=0, legend=None)\n",
    "plt.xlabel('Tripduration Group')\n",
    "plt.ylabel('Count')\n",
    "plt.title('Distribution of Tripduration Groups')\n",
    "plt.show()\n"
   ]
  },
  {
   "cell_type": "code",
   "execution_count": 61,
   "id": "6b80b41c",
   "metadata": {},
   "outputs": [
    {
     "name": "stdout",
     "output_type": "stream",
     "text": [
      "+-------+---------+---------+--------+--------+--------+------------+--------------------+--------------------+---------------+-------------+--------------------+------+---------+------------------+\n",
      "|trip_id|startdate|starttime|stopdata|stoptime|  bikeid|tripduration|   from_station_name|     to_station_name|from_station_id|to_station_id|            usertype|gender|birthyear|tripduration_Group|\n",
      "+-------+---------+---------+--------+--------+--------+------------+--------------------+--------------------+---------------+-------------+--------------------+------+---------+------------------+\n",
      "|      1| 1/1/2016|     0:36|1/1/2016|    0:48|SEA00480|     734.096|PATH / 9th Ave & ...|Summit Ave & E De...|         SLU-07|        CH-01|Short-Term Pass H...|  Male|     1980|             Short|\n",
      "|      2| 1/1/2016|     0:43|1/1/2016|    0:54|SEA00392|     644.455|Bellevue Ave & E ...|Dexter Ave N & Al...|          CH-12|       SLU-02|              Member|  Male|     1982|             Short|\n",
      "|      3| 1/1/2016|     0:47|1/1/2016|    1:05|SEA00276|    1078.579|Key Arena / 1st A...| 1st Ave & Marion St|         SLU-19|       CBD-05|Short-Term Pass H...|  Male|     1980|             Short|\n",
      "|      4| 1/1/2016|     0:47|1/1/2016|    1:05|SEA00335|     770.696|Key Arena / 1st A...| 1st Ave & Marion St|         SLU-19|       CBD-05|Short-Term Pass H...|  Male|     1980|             Short|\n",
      "|      5| 1/1/2016|     1:10|1/1/2016|    1:51|SEA00071|     797.304|   2nd Ave & Pine St| 1st Ave & Marion St|         CBD-13|       CBD-05|Short-Term Pass H...|  Male|     1980|             Short|\n",
      "|      6| 1/1/2016|     1:11|1/1/2016|    1:20|SEA00382|     856.238|REI / Yale Ave N ...|E Blaine St & Fai...|         SLU-01|        EL-03|              Member|  Male|     1990|             Short|\n",
      "|      7| 1/1/2016|     1:11|1/1/2016|    1:20|SEA00338|     514.811|REI / Yale Ave N ...|E Blaine St & Fai...|         SLU-01|        EL-03|              Member|Female|     1983|             Short|\n",
      "|      8| 1/1/2016|     1:17|1/1/2016|    1:25|SEA00205|     741.016|   Pine St & 9th Ave|Republican St & W...|         SLU-16|       SLU-04|              Member|  Male|     1983|             Short|\n",
      "|      9| 1/1/2016|     1:26|1/1/2016|    1:34|SEA00480|     736.474|Summit Ave & E De...|12th Ave & E Merc...|          CH-01|        CH-15|Short-Term Pass H...|  Male|     1980|             Short|\n",
      "|     10| 1/1/2016|     1:26|1/1/2016|    1:34|SEA00149|     499.128|Summit Ave & E De...|12th Ave & E Merc...|          CH-01|        CH-15|Short-Term Pass H...|  Male|     1980|             Short|\n",
      "|     11| 1/1/2016|     1:29|1/1/2016|    1:50|SEA00393|     480.574|Cal Anderson Park...|King Street Stati...|          CH-08|        PS-05|Short-Term Pass H...|  Male|     1980|             Short|\n",
      "|     12| 1/1/2016|     1:29|1/1/2016|    1:50|SEA00101|     436.445|Cal Anderson Park...|King Street Stati...|          CH-08|        PS-05|Short-Term Pass H...|  Male|     1980|             Short|\n",
      "|     13| 1/1/2016|     1:31|1/1/2016|    1:50|SEA00292|     272.029|Cal Anderson Park...|King Street Stati...|          CH-08|        PS-05|Short-Term Pass H...|  Male|     1980|             Short|\n",
      "|     14| 1/1/2016|     1:32|1/1/2016|    1:45|SEA00016|     481.684|Cal Anderson Park...|Westlake Ave & 6t...|          CH-08|       SLU-15|Short-Term Pass H...|  Male|     1980|             Short|\n",
      "|     15| 1/1/2016|     1:33|1/1/2016|    1:50|SEA00422|    1035.892|Cal Anderson Park...|King Street Stati...|          CH-08|        PS-05|Short-Term Pass H...|  Male|     1980|             Short|\n",
      "|     16| 1/1/2016|     1:33|1/1/2016|    1:37|SEA00321|     649.525|E Harrison St & B...|Cal Anderson Park...|          CH-02|        CH-08|              Member|  Male|     1993|             Short|\n",
      "|     17| 1/1/2016|     1:46|1/1/2016|    1:51|SEA00499|     869.444|2nd Ave & Blancha...| 1st Ave & Marion St|          BT-05|       CBD-05|Short-Term Pass H...|  Male|     1980|             Short|\n",
      "|     18| 1/1/2016|     2:00|1/1/2016|    2:11|SEA00033|     691.471|PATH / 9th Ave & ...|   Pine St & 9th Ave|         SLU-07|       SLU-16|              Member|  Male|     1983|             Short|\n",
      "|     19| 1/1/2016|     2:21|1/1/2016|    2:33|SEA00125|     738.556|  3rd Ave & Broad St|   Pine St & 9th Ave|          BT-01|       SLU-16|              Member|  Male|     1988|             Short|\n",
      "|     20| 1/1/2016|     2:37|1/1/2016|    2:49|SEA00157|    1053.753|   Pine St & 9th Ave|E Pine St & 16th Ave|         SLU-16|        CH-07|              Member|  Male|     1988|             Short|\n",
      "+-------+---------+---------+--------+--------+--------+------------+--------------------+--------------------+---------------+-------------+--------------------+------+---------+------------------+\n",
      "only showing top 20 rows\n",
      "\n"
     ]
    }
   ],
   "source": [
    "df.show()"
   ]
  },
  {
   "cell_type": "code",
   "execution_count": 71,
   "id": "3a1fec6e",
   "metadata": {},
   "outputs": [
    {
     "name": "stdout",
     "output_type": "stream",
     "text": [
      "+---------+-------+---------+--------+--------+--------+------------+--------------------+--------------------+---------------+-------------+--------------------+------+---------+------------------+-----------------+------------------+----------------+---------------+---------------+--------------+------------+-------------+------------+-------------------------+--------------------------+-------------------------+--------------------+---------------------+--------------------+------------------+-------------------+------------------+----------------+------+\n",
      "|startdate|trip_id|starttime|stopdata|stoptime|  bikeid|tripduration|   from_station_name|     to_station_name|from_station_id|to_station_id|            usertype|gender|birthyear|tripduration_Group|Max_Temperature_F|Mean_Temperature_F|Min_TemperatureF|Max_Dew_Point_F|MeanDew_Point_F|Min_Dewpoint_F|Max_Humidity|Mean_Humidity|Min_Humidity|Max_Sea_Level_Pressure_In|Mean_Sea_Level_Pressure_In|Min_Sea_Level_Pressure_In|Max_Visibility_Miles|Mean_Visibility_Miles|Min_Visibility_Miles|Max_Wind_Speed_MPH|Mean_Wind_Speed_MPH|Max_Gust_Speed_MPH|Precipitation_In|Events|\n",
      "+---------+-------+---------+--------+--------+--------+------------+--------------------+--------------------+---------------+-------------+--------------------+------+---------+------------------+-----------------+------------------+----------------+---------------+---------------+--------------+------------+-------------+------------+-------------------------+--------------------------+-------------------------+--------------------+---------------------+--------------------+------------------+-------------------+------------------+----------------+------+\n",
      "| 1/1/2016|      1|     0:36|1/1/2016|    0:48|SEA00480|     734.096|PATH / 9th Ave & ...|Summit Ave & E De...|         SLU-07|        CH-01|Short-Term Pass H...|  Male|     1980|             Short|               44|                34|              25|             30|             25|            21|          92|           76|          43|                    30.49|                     30.38|                    30.27|                  10|                   10|                   6|                 5|                  1|              null|             0.0|  null|\n",
      "| 1/1/2016|      2|     0:43|1/1/2016|    0:54|SEA00392|     644.455|Bellevue Ave & E ...|Dexter Ave N & Al...|          CH-12|       SLU-02|              Member|  Male|     1982|             Short|               44|                34|              25|             30|             25|            21|          92|           76|          43|                    30.49|                     30.38|                    30.27|                  10|                   10|                   6|                 5|                  1|              null|             0.0|  null|\n",
      "| 1/1/2016|      3|     0:47|1/1/2016|    1:05|SEA00276|    1078.579|Key Arena / 1st A...| 1st Ave & Marion St|         SLU-19|       CBD-05|Short-Term Pass H...|  Male|     1980|             Short|               44|                34|              25|             30|             25|            21|          92|           76|          43|                    30.49|                     30.38|                    30.27|                  10|                   10|                   6|                 5|                  1|              null|             0.0|  null|\n",
      "+---------+-------+---------+--------+--------+--------+------------+--------------------+--------------------+---------------+-------------+--------------------+------+---------+------------------+-----------------+------------------+----------------+---------------+---------------+--------------+------------+-------------+------------+-------------------------+--------------------------+-------------------------+--------------------+---------------------+--------------------+------------------+-------------------+------------------+----------------+------+\n",
      "only showing top 3 rows\n",
      "\n",
      "joined_row: 46994\n",
      "joined_column: 35\n"
     ]
    }
   ],
   "source": [
    "joined_df = df.join(df_1, on='startdate', how='inner')\n",
    "joined_df.show(3)\n",
    "joined_row_count = joined_df.count()\n",
    "print(\"joined_row:\", joined_row_count)\n",
    "joined_column_count = len(joined_df.columns)\n",
    "print(\"joined_column:\", joined_column_count)"
   ]
  },
  {
   "cell_type": "code",
   "execution_count": 74,
   "id": "96de201f",
   "metadata": {},
   "outputs": [
    {
     "name": "stdout",
     "output_type": "stream",
     "text": [
      "selected_row: 46994\n",
      "selected_column: 8\n"
     ]
    }
   ],
   "source": [
    "select_columns = ['tripduration_Group', 'usertype', 'gender', 'birthyear', \n",
    "                   'Mean_Temperature_F', 'Mean_Humidity', 'Precipitation_In', 'Events']\n",
    "\n",
    "df_2 = joined_df.select(select_columns)\n",
    "\n",
    "selected_row_count = df_2.count()\n",
    "print(\"selected_row:\", selected_row_count)\n",
    "selected_column_count = len(selected_joined_df.columns)\n",
    "print(\"selected_column:\", selected_column_count)"
   ]
  },
  {
   "cell_type": "code",
   "execution_count": null,
   "id": "6ed18337",
   "metadata": {},
   "outputs": [],
   "source": []
  },
  {
   "cell_type": "code",
   "execution_count": null,
   "id": "31f97783",
   "metadata": {},
   "outputs": [],
   "source": []
  }
 ],
 "metadata": {
  "kernelspec": {
   "display_name": "Python 3 (ipykernel)",
   "language": "python",
   "name": "python3"
  },
  "language_info": {
   "codemirror_mode": {
    "name": "ipython",
    "version": 3
   },
   "file_extension": ".py",
   "mimetype": "text/x-python",
   "name": "python",
   "nbconvert_exporter": "python",
   "pygments_lexer": "ipython3",
   "version": "3.10.4"
  }
 },
 "nbformat": 4,
 "nbformat_minor": 5
}
